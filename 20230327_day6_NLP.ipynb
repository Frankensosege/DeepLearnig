{
 "cells": [
  {
   "cell_type": "markdown",
   "id": "3fcade0e",
   "metadata": {},
   "source": [
    "# 딥러닝을 이용한 자연어 처리"
   ]
  },
  {
   "cell_type": "code",
   "execution_count": 1,
   "id": "35ff21ff",
   "metadata": {},
   "outputs": [
    {
     "name": "stdout",
     "output_type": "stream",
     "text": [
      "원문 :  해보지 않으면 해낼 수 없다\n",
      "토큰화 :  ['해보지', '않으면', '해낼', '수', '없다']\n"
     ]
    }
   ],
   "source": [
    "# 모든 문장을 단어로 토큰화\n",
    "\n",
    "from tensorflow.keras.preprocessing.text import text_to_word_sequence\n",
    "\n",
    "text = '해보지 않으면 해낼 수 없다'\n",
    "\n",
    "result = text_to_word_sequence(text)\n",
    "print('원문 : ', text)\n",
    "print('토큰화 : ', result)"
   ]
  },
  {
   "cell_type": "code",
   "execution_count": 3,
   "id": "2b102c5e",
   "metadata": {},
   "outputs": [],
   "source": [
    "# Tokenizer class를 활용하여 문장을 토큰화 한 후 단어의 갯수를 샐 수 있음(bag of word)\n",
    "from tensorflow.keras.preprocessing.text import Tokenizer\n",
    "\n",
    "doc = ['먼저 텍스트의 각 단어를 토큰화 합니다.',\n",
    "      '텍스트의 단어로 토큰화해야 딥러닝에서 인식됩니다.',\n",
    "      '토큰화한 결과는 딥러닝에서 사용할 수 있습니다.']\n",
    "token = Tokenizer()\n",
    "token.fit_on_texts(doc)"
   ]
  },
  {
   "cell_type": "code",
   "execution_count": 7,
   "id": "524d8fa0",
   "metadata": {},
   "outputs": [
    {
     "name": "stdout",
     "output_type": "stream",
     "text": [
      "OrderedDict([('먼저', 1), ('텍스트의', 2), ('각', 1), ('단어를', 1), ('토큰화', 1), ('합니다', 1), ('단어로', 1), ('토큰화해야', 1), ('딥러닝에서', 2), ('인식됩니다', 1), ('토큰화한', 1), ('결과는', 1), ('사용할', 1), ('수', 1), ('있습니다', 1)])\n",
      "\n",
      "3\n",
      "\n",
      "defaultdict(<class 'int'>, {'각': 1, '텍스트의': 2, '먼저': 1, '토큰화': 1, '합니다': 1, '단어를': 1, '토큰화해야': 1, '딥러닝에서': 2, '인식됩니다': 1, '단어로': 1, '토큰화한': 1, '수': 1, '있습니다': 1, '결과는': 1, '사용할': 1})\n",
      "\n",
      "{1: '텍스트의', 2: '딥러닝에서', 3: '먼저', 4: '각', 5: '단어를', 6: '토큰화', 7: '합니다', 8: '단어로', 9: '토큰화해야', 10: '인식됩니다', 11: '토큰화한', 12: '결과는', 13: '사용할', 14: '수', 15: '있습니다'}\n"
     ]
    }
   ],
   "source": [
    "print(token.word_counts)     # 토큰화한 각 단어의 출현 빈도 수 \n",
    "print()\n",
    "print(token.document_count)  # 문장의 수\n",
    "print()\n",
    "print(token.word_docs)       # 단어가 나온 문장의 수\n",
    "print()\n",
    "print(token.index_word)      # 단어의 인덱스"
   ]
  },
  {
   "cell_type": "code",
   "execution_count": 9,
   "id": "cf93b682",
   "metadata": {},
   "outputs": [
    {
     "name": "stdout",
     "output_type": "stream",
     "text": [
      "{'오랫동안': 1, '꿈꾸는': 2, '이는': 3, '그': 4, '꿈을': 5, '닮아간다': 6}\n",
      "[[1, 2, 3, 4, 5, 6]]\n"
     ]
    }
   ],
   "source": [
    "# 단어의 원핫인코딩\n",
    "# 1. 문장을 토크나이징\n",
    "# 2. 단어의 인덱스 확인 ->변수 추가\n",
    "# 3. 단어의 인덱스를 원핫 인코딩 -> 인덱스 + 1 to_categorical()\n",
    "text = '오랫동안 꿈꾸는 이는 그 꿈을 닮아간다'\n",
    "\n",
    "token = Tokenizer()\n",
    "token.fit_on_texts([text])\n",
    "print(token.word_index)                  # 토크나이징한 단어의 인덱스\n",
    "print(token.texts_to_sequences([text]))  # 단어의 인덱스만 리스트로 반환"
   ]
  },
  {
   "cell_type": "code",
   "execution_count": 11,
   "id": "e89ce674",
   "metadata": {},
   "outputs": [
    {
     "data": {
      "text/plain": [
       "array([[[0., 1., 0., 0., 0., 0., 0.],\n",
       "        [0., 0., 1., 0., 0., 0., 0.],\n",
       "        [0., 0., 0., 1., 0., 0., 0.],\n",
       "        [0., 0., 0., 0., 1., 0., 0.],\n",
       "        [0., 0., 0., 0., 0., 1., 0.],\n",
       "        [0., 0., 0., 0., 0., 0., 1.]]], dtype=float32)"
      ]
     },
     "execution_count": 11,
     "metadata": {},
     "output_type": "execute_result"
    }
   ],
   "source": [
    "x_index = token.texts_to_sequences([text]) # == np.array(list(token.word_index.values())).reshape(1, -1)\n",
    "# x_index에 대해 원핫 인코딩\n",
    "from tensorflow.keras.utils import to_categorical\n",
    "\n",
    "to_categorical(x_index, num_classes=len(token.word_index) + 1)"
   ]
  },
  {
   "cell_type": "markdown",
   "id": "382a8c7b",
   "metadata": {},
   "source": [
    "### 딥러닝을 활용한 자연어 처리"
   ]
  },
  {
   "cell_type": "code",
   "execution_count": 14,
   "id": "4249f70b",
   "metadata": {},
   "outputs": [
    {
     "name": "stdout",
     "output_type": "stream",
     "text": [
      "{'너무': 1, '재미있네요': 2, '최고예요': 3, '참': 4, '잘': 5, '만든': 6, '영화예요': 7, '추천하고': 8, '싶은': 9, '영화': 10, '입니다': 11, '한번': 12, '더': 13, '보고싶네요': 14, '글쎄요': 15, '별로예요': 16, '생각보다': 17, '지루하네요': 18, '연기가': 19, '어색하네요': 20, '재미없어요': 21}\n"
     ]
    }
   ],
   "source": [
    "from tensorflow.keras.preprocessing.sequence import pad_sequences\n",
    "from tensorflow.keras.models import Sequential\n",
    "from tensorflow.keras.layers import Dense, Flatten, Embedding\n",
    "from numpy import array\n",
    "\n",
    "docs=['너무 재미있네요', '최고예요', '참 잘 만든 영화예요', '추천하고 싶은 영화 입니다', '한번 더 보고싶네요', '글쎄요', '별로예요', '생각보다 지루하네요', '연기가 어색하네요', '재미없어요']\n",
    "classes = array([1,1,1,1,1,0,0,0,0,0])\n",
    "\n",
    "token = Tokenizer()\n",
    "token.fit_on_texts(docs)\n",
    "print(token.word_index)"
   ]
  },
  {
   "cell_type": "code",
   "execution_count": 15,
   "id": "7cb4d3f7",
   "metadata": {},
   "outputs": [
    {
     "name": "stdout",
     "output_type": "stream",
     "text": [
      "리뷰텍스트 토큰화 :  [[1, 2], [3], [4, 5, 6, 7], [8, 9, 10, 11], [12, 13, 14], [15], [16], [17, 18], [19, 20], [21]]\n"
     ]
    }
   ],
   "source": [
    "x = token.texts_to_sequences(docs)\n",
    "print(\"리뷰텍스트 토큰화 : \", x)"
   ]
  },
  {
   "cell_type": "code",
   "execution_count": 16,
   "id": "ab629412",
   "metadata": {},
   "outputs": [
    {
     "name": "stdout",
     "output_type": "stream",
     "text": [
      "패딩 결과 :  [[ 0  0  1  2]\n",
      " [ 0  0  0  3]\n",
      " [ 4  5  6  7]\n",
      " [ 8  9 10 11]\n",
      " [ 0 12 13 14]\n",
      " [ 0  0  0 15]\n",
      " [ 0  0  0 16]\n",
      " [ 0  0 17 18]\n",
      " [ 0  0 19 20]\n",
      " [ 0  0  0 21]]\n"
     ]
    }
   ],
   "source": [
    "padded_x = pad_sequences(x, 4)\n",
    "print('패딩 결과 : ', padded_x)"
   ]
  },
  {
   "cell_type": "code",
   "execution_count": 17,
   "id": "771aca13",
   "metadata": {},
   "outputs": [],
   "source": [
    "word_size = len(token.word_index) + 1"
   ]
  },
  {
   "cell_type": "code",
   "execution_count": 20,
   "id": "ed055724",
   "metadata": {},
   "outputs": [
    {
     "name": "stdout",
     "output_type": "stream",
     "text": [
      "Model: \"sequential_2\"\n",
      "_________________________________________________________________\n",
      " Layer (type)                Output Shape              Param #   \n",
      "=================================================================\n",
      " embedding_1 (Embedding)     (None, 4, 8)              176       \n",
      "                                                                 \n",
      " flatten_1 (Flatten)         (None, 32)                0         \n",
      "                                                                 \n",
      " dense_1 (Dense)             (None, 1)                 33        \n",
      "                                                                 \n",
      "=================================================================\n",
      "Total params: 209\n",
      "Trainable params: 209\n",
      "Non-trainable params: 0\n",
      "_________________________________________________________________\n"
     ]
    }
   ],
   "source": [
    "model = Sequential()\n",
    "model.add(Embedding(word_size, 8, input_length=4))\n",
    "model.add(Flatten())\n",
    "model.add(Dense(1, activation='sigmoid'))\n",
    "model.summary()"
   ]
  },
  {
   "cell_type": "code",
   "execution_count": 21,
   "id": "fb041050",
   "metadata": {},
   "outputs": [
    {
     "name": "stdout",
     "output_type": "stream",
     "text": [
      "Epoch 1/20\n",
      "1/1 [==============================] - 1s 1s/step - loss: 0.6927 - accuracy: 0.6000\n",
      "Epoch 2/20\n",
      "1/1 [==============================] - 0s 9ms/step - loss: 0.6895 - accuracy: 0.6000\n",
      "Epoch 3/20\n",
      "1/1 [==============================] - 0s 11ms/step - loss: 0.6864 - accuracy: 0.6000\n",
      "Epoch 4/20\n",
      "1/1 [==============================] - 0s 6ms/step - loss: 0.6832 - accuracy: 0.6000\n",
      "Epoch 5/20\n",
      "1/1 [==============================] - 0s 5ms/step - loss: 0.6801 - accuracy: 0.6000\n",
      "Epoch 6/20\n",
      "1/1 [==============================] - 0s 11ms/step - loss: 0.6770 - accuracy: 0.6000\n",
      "Epoch 7/20\n",
      "1/1 [==============================] - 0s 12ms/step - loss: 0.6739 - accuracy: 0.6000\n",
      "Epoch 8/20\n",
      "1/1 [==============================] - 0s 6ms/step - loss: 0.6708 - accuracy: 0.7000\n",
      "Epoch 9/20\n",
      "1/1 [==============================] - 0s 5ms/step - loss: 0.6677 - accuracy: 0.8000\n",
      "Epoch 10/20\n",
      "1/1 [==============================] - 0s 11ms/step - loss: 0.6646 - accuracy: 0.8000\n",
      "Epoch 11/20\n",
      "1/1 [==============================] - 0s 7ms/step - loss: 0.6615 - accuracy: 0.8000\n",
      "Epoch 12/20\n",
      "1/1 [==============================] - 0s 4ms/step - loss: 0.6585 - accuracy: 0.8000\n",
      "Epoch 13/20\n",
      "1/1 [==============================] - 0s 11ms/step - loss: 0.6554 - accuracy: 0.8000\n",
      "Epoch 14/20\n",
      "1/1 [==============================] - 0s 12ms/step - loss: 0.6524 - accuracy: 0.8000\n",
      "Epoch 15/20\n",
      "1/1 [==============================] - 0s 6ms/step - loss: 0.6493 - accuracy: 0.9000\n",
      "Epoch 16/20\n",
      "1/1 [==============================] - 0s 8ms/step - loss: 0.6463 - accuracy: 0.9000\n",
      "Epoch 17/20\n",
      "1/1 [==============================] - 0s 10ms/step - loss: 0.6432 - accuracy: 0.9000\n",
      "Epoch 18/20\n",
      "1/1 [==============================] - 0s 12ms/step - loss: 0.6402 - accuracy: 0.9000\n",
      "Epoch 19/20\n",
      "1/1 [==============================] - 0s 6ms/step - loss: 0.6372 - accuracy: 0.9000\n",
      "Epoch 20/20\n",
      "1/1 [==============================] - 0s 7ms/step - loss: 0.6341 - accuracy: 0.9000\n",
      "1/1 [==============================] - 0s 255ms/step - loss: 0.6311 - accuracy: 0.9000\n",
      "Accuracy: 0.9000\n"
     ]
    }
   ],
   "source": [
    "model.compile(loss='binary_crossentropy', optimizer='adam', metrics=['accuracy'])\n",
    "model.fit(padded_x, classes, epochs=20)\n",
    "print('Accuracy: %.4f' % (model.evaluate(padded_x, classes)[1]))"
   ]
  },
  {
   "cell_type": "code",
   "execution_count": 26,
   "id": "53583b4e",
   "metadata": {},
   "outputs": [
    {
     "name": "stdout",
     "output_type": "stream",
     "text": [
      "1/1 [==============================] - 0s 64ms/step\n"
     ]
    },
    {
     "data": {
      "text/plain": [
       "array([[0.5356389]], dtype=float32)"
      ]
     },
     "execution_count": 26,
     "metadata": {},
     "output_type": "execute_result"
    }
   ],
   "source": [
    "model.predict(padded_x[3].reshape(1, -1))"
   ]
  },
  {
   "cell_type": "code",
   "execution_count": null,
   "id": "3275f4ef",
   "metadata": {},
   "outputs": [],
   "source": []
  }
 ],
 "metadata": {
  "kernelspec": {
   "display_name": "py3.8",
   "language": "python",
   "name": "py3.8"
  },
  "language_info": {
   "codemirror_mode": {
    "name": "ipython",
    "version": 3
   },
   "file_extension": ".py",
   "mimetype": "text/x-python",
   "name": "python",
   "nbconvert_exporter": "python",
   "pygments_lexer": "ipython3",
   "version": "3.8.16"
  }
 },
 "nbformat": 4,
 "nbformat_minor": 5
}
