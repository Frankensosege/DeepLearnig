{
 "cells": [
  {
   "cell_type": "code",
   "execution_count": 2,
   "id": "6a6d3068",
   "metadata": {},
   "outputs": [],
   "source": [
    "# %load deep_module.py\n",
    "from tensorflow.keras.models import Sequential\n",
    "from tensorflow.keras.layers import Dense, Flatten\n",
    "from tensorflow.keras.callbacks import ModelCheckpoint, EarlyStopping\n",
    "from tensorflow.keras.utils import to_categorical\n",
    "\n",
    "import matplotlib.pyplot as plt\n",
    "import pandas as pd\n",
    "import numpy as np"
   ]
  },
  {
   "cell_type": "code",
   "execution_count": 3,
   "id": "96a10f84",
   "metadata": {},
   "outputs": [
    {
     "name": "stdout",
     "output_type": "stream",
     "text": [
      "(60000, 28, 28) (60000,) (10000, 28, 28) (10000,)\n"
     ]
    }
   ],
   "source": [
    "from tensorflow.keras.datasets import fashion_mnist\n",
    "\n",
    "(X_train, y_train),(X_test, y_test) = fashion_mnist.load_data()\n",
    "print(X_train.shape, y_train.shape, X_test.shape, y_test.shape)"
   ]
  },
  {
   "cell_type": "code",
   "execution_count": 4,
   "id": "5e6cb851",
   "metadata": {},
   "outputs": [
    {
     "name": "stdout",
     "output_type": "stream",
     "text": [
      "[0 1 2 3 4 5 6 7 8 9]\n"
     ]
    }
   ],
   "source": [
    "# 0 : T-shirt/top, 1 : Trouser, 2 : Pullover, 3 : Dress, 4 : Coat, 5 : Sandal\n",
    "# 6 : Shirt, 7 : Sneaker, 8 : Bag, 9 : Ankel boot\n",
    "\n",
    "print(np.unique(y_train))"
   ]
  },
  {
   "cell_type": "code",
   "execution_count": 5,
   "id": "c9b8962f",
   "metadata": {},
   "outputs": [],
   "source": [
    "X_train = X_train.astype('float64') / 255\n",
    "X_test = X_test.astype('float64') / 255\n",
    "y_train = to_categorical(y_train)\n",
    "y_test = to_categorical(y_test)"
   ]
  },
  {
   "cell_type": "code",
   "execution_count": 6,
   "id": "9ebf3bec",
   "metadata": {},
   "outputs": [
    {
     "name": "stdout",
     "output_type": "stream",
     "text": [
      "Epoch 1/50\n",
      "240/240 [==============================] - 4s 13ms/step - loss: 0.5571 - accuracy: 0.8067 - val_loss: 0.4432 - val_accuracy: 0.8391\n",
      "Epoch 2/50\n",
      "240/240 [==============================] - 3s 12ms/step - loss: 0.4012 - accuracy: 0.8580 - val_loss: 0.4125 - val_accuracy: 0.8537\n",
      "Epoch 3/50\n",
      "240/240 [==============================] - 3s 13ms/step - loss: 0.3597 - accuracy: 0.8733 - val_loss: 0.3660 - val_accuracy: 0.8700\n",
      "Epoch 4/50\n",
      "240/240 [==============================] - 3s 12ms/step - loss: 0.3286 - accuracy: 0.8823 - val_loss: 0.3433 - val_accuracy: 0.8773\n",
      "Epoch 5/50\n",
      "240/240 [==============================] - 3s 13ms/step - loss: 0.3056 - accuracy: 0.8894 - val_loss: 0.3330 - val_accuracy: 0.8809\n",
      "Epoch 6/50\n",
      "240/240 [==============================] - 3s 12ms/step - loss: 0.2888 - accuracy: 0.8950 - val_loss: 0.3768 - val_accuracy: 0.8603\n",
      "Epoch 7/50\n",
      "240/240 [==============================] - 3s 13ms/step - loss: 0.2738 - accuracy: 0.9002 - val_loss: 0.3154 - val_accuracy: 0.8875\n",
      "Epoch 8/50\n",
      "240/240 [==============================] - 3s 13ms/step - loss: 0.2642 - accuracy: 0.9033 - val_loss: 0.3211 - val_accuracy: 0.8849\n",
      "Epoch 9/50\n",
      "240/240 [==============================] - 3s 13ms/step - loss: 0.2484 - accuracy: 0.9095 - val_loss: 0.3192 - val_accuracy: 0.8854\n",
      "Epoch 10/50\n",
      "240/240 [==============================] - 3s 13ms/step - loss: 0.2396 - accuracy: 0.9129 - val_loss: 0.3100 - val_accuracy: 0.8891\n",
      "Epoch 11/50\n",
      "240/240 [==============================] - 3s 13ms/step - loss: 0.2320 - accuracy: 0.9148 - val_loss: 0.3297 - val_accuracy: 0.8809\n",
      "Epoch 12/50\n",
      "240/240 [==============================] - 3s 13ms/step - loss: 0.2243 - accuracy: 0.9168 - val_loss: 0.3129 - val_accuracy: 0.8882\n",
      "Epoch 13/50\n",
      "240/240 [==============================] - 3s 13ms/step - loss: 0.2129 - accuracy: 0.9217 - val_loss: 0.3297 - val_accuracy: 0.8837\n",
      "Epoch 14/50\n",
      "240/240 [==============================] - 3s 13ms/step - loss: 0.2069 - accuracy: 0.9241 - val_loss: 0.3044 - val_accuracy: 0.8917\n",
      "Epoch 15/50\n",
      "240/240 [==============================] - 3s 13ms/step - loss: 0.2027 - accuracy: 0.9257 - val_loss: 0.3050 - val_accuracy: 0.8930\n",
      "Epoch 16/50\n",
      "240/240 [==============================] - 3s 13ms/step - loss: 0.1925 - accuracy: 0.9290 - val_loss: 0.3089 - val_accuracy: 0.8932\n",
      "Epoch 17/50\n",
      "240/240 [==============================] - 3s 13ms/step - loss: 0.1858 - accuracy: 0.9314 - val_loss: 0.3136 - val_accuracy: 0.8928\n",
      "Epoch 18/50\n",
      "240/240 [==============================] - 3s 13ms/step - loss: 0.1826 - accuracy: 0.9334 - val_loss: 0.3008 - val_accuracy: 0.8970\n",
      "Epoch 19/50\n",
      "240/240 [==============================] - 3s 13ms/step - loss: 0.1732 - accuracy: 0.9372 - val_loss: 0.3297 - val_accuracy: 0.8844\n",
      "Epoch 20/50\n",
      "240/240 [==============================] - 3s 13ms/step - loss: 0.1665 - accuracy: 0.9397 - val_loss: 0.3096 - val_accuracy: 0.8990\n",
      "Epoch 21/50\n",
      "240/240 [==============================] - 3s 13ms/step - loss: 0.1607 - accuracy: 0.9413 - val_loss: 0.3037 - val_accuracy: 0.8968\n",
      "Epoch 22/50\n",
      "240/240 [==============================] - 3s 13ms/step - loss: 0.1603 - accuracy: 0.9416 - val_loss: 0.3357 - val_accuracy: 0.8868\n",
      "Epoch 23/50\n",
      "240/240 [==============================] - 3s 13ms/step - loss: 0.1542 - accuracy: 0.9437 - val_loss: 0.3237 - val_accuracy: 0.8944\n",
      "Epoch 24/50\n",
      "240/240 [==============================] - 3s 14ms/step - loss: 0.1476 - accuracy: 0.9466 - val_loss: 0.3035 - val_accuracy: 0.9007\n",
      "Epoch 25/50\n",
      "240/240 [==============================] - 3s 13ms/step - loss: 0.1436 - accuracy: 0.9478 - val_loss: 0.3336 - val_accuracy: 0.8915\n",
      "Epoch 26/50\n",
      "240/240 [==============================] - 3s 12ms/step - loss: 0.1369 - accuracy: 0.9499 - val_loss: 0.3213 - val_accuracy: 0.8978\n",
      "Epoch 27/50\n",
      "240/240 [==============================] - 3s 12ms/step - loss: 0.1331 - accuracy: 0.9524 - val_loss: 0.3315 - val_accuracy: 0.8928\n",
      "Epoch 28/50\n",
      "240/240 [==============================] - 3s 12ms/step - loss: 0.1276 - accuracy: 0.9540 - val_loss: 0.3454 - val_accuracy: 0.8883\n",
      "Epoch 29/50\n",
      "240/240 [==============================] - 3s 12ms/step - loss: 0.1248 - accuracy: 0.9547 - val_loss: 0.3312 - val_accuracy: 0.8938\n",
      "Epoch 30/50\n",
      "240/240 [==============================] - 3s 12ms/step - loss: 0.1235 - accuracy: 0.9550 - val_loss: 0.3485 - val_accuracy: 0.8907\n",
      "Epoch 31/50\n",
      "240/240 [==============================] - 3s 13ms/step - loss: 0.1180 - accuracy: 0.9568 - val_loss: 0.3254 - val_accuracy: 0.9003\n",
      "Epoch 32/50\n",
      "240/240 [==============================] - 3s 13ms/step - loss: 0.1183 - accuracy: 0.9562 - val_loss: 0.3382 - val_accuracy: 0.8942\n",
      "Epoch 33/50\n",
      "240/240 [==============================] - 3s 13ms/step - loss: 0.1112 - accuracy: 0.9592 - val_loss: 0.3420 - val_accuracy: 0.8952\n",
      "Epoch 34/50\n",
      "240/240 [==============================] - 3s 13ms/step - loss: 0.1065 - accuracy: 0.9623 - val_loss: 0.3391 - val_accuracy: 0.8983\n",
      "Epoch 35/50\n",
      "240/240 [==============================] - 3s 13ms/step - loss: 0.1081 - accuracy: 0.9602 - val_loss: 0.3528 - val_accuracy: 0.8962\n",
      "Epoch 36/50\n",
      "240/240 [==============================] - 3s 12ms/step - loss: 0.0994 - accuracy: 0.9643 - val_loss: 0.3466 - val_accuracy: 0.8984\n",
      "Epoch 37/50\n",
      "240/240 [==============================] - 3s 13ms/step - loss: 0.1003 - accuracy: 0.9641 - val_loss: 0.3707 - val_accuracy: 0.8953\n",
      "Epoch 38/50\n",
      "240/240 [==============================] - 3s 13ms/step - loss: 0.0941 - accuracy: 0.9663 - val_loss: 0.3545 - val_accuracy: 0.8956\n"
     ]
    }
   ],
   "source": [
    "stoppoint = EarlyStopping(monitor='val_loss', patience=20)\n",
    "\n",
    "model = Sequential(Flatten(input_shape=(28, 28)))\n",
    "model.add(Dense(512, activation='relu'))\n",
    "model.add(Dense(10, activation='sigmoid'))\n",
    "model.compile(loss='categorical_crossentropy', optimizer='adam', metrics='accuracy')\n",
    "history = model.fit(X_train, y_train, epochs=50, batch_size=200, validation_split=0.2, callbacks=[stoppoint])"
   ]
  },
  {
   "cell_type": "code",
   "execution_count": 7,
   "id": "63cf3611",
   "metadata": {},
   "outputs": [
    {
     "data": {
      "text/plain": [
       "<function matplotlib.pyplot.show(close=None, block=None)>"
      ]
     },
     "execution_count": 7,
     "metadata": {},
     "output_type": "execute_result"
    },
    {
     "data": {
      "image/png": "[encoded data removed]",
      "text/plain": [
       "<Figure size 640x480 with 1 Axes>"
      ]
     },
     "metadata": {},
     "output_type": "display_data"
    }
   ],
   "source": [
    "y_vloss = history.history['val_loss']\n",
    "y_loss = history.history['loss']\n",
    "x_num = np.arange(len(y_vloss))\n",
    "\n",
    "plt.plot(x_num, y_vloss, marker='.', c='red', label='val_loss')\n",
    "plt.plot(x_num, y_loss, marker='.', c='blue', label='loss')\n",
    "plt.legend(loc='best')\n",
    "plt.grid()\n",
    "plt.xlabel('epoch')\n",
    "plt.ylabel('loss')\n",
    "plt.show"
   ]
  },
  {
   "cell_type": "code",
   "execution_count": 8,
   "id": "42d3ece0",
   "metadata": {},
   "outputs": [
    {
     "name": "stdout",
     "output_type": "stream",
     "text": [
      "313/313 [==============================] - 1s 3ms/step - loss: 0.3866 - accuracy: 0.8873\n"
     ]
    }
   ],
   "source": [
    "score = model.evaluate(X_test, y_test)"
   ]
  },
  {
   "cell_type": "code",
   "execution_count": 9,
   "id": "2150d4d9",
   "metadata": {},
   "outputs": [
    {
     "name": "stdout",
     "output_type": "stream",
     "text": [
      "(400, 431)\n",
      "(28, 28)\n"
     ]
    }
   ],
   "source": [
    "from PIL import Image\n",
    " \n",
    "# 이미지 열기\n",
    "im = Image.open('./data/img/shoose-1.jpg')\n",
    "# 이미지 크기 출력\n",
    "print(im.size)\n",
    "im = im.resize((28, 28))\n",
    "\n",
    "x = 255 - (np.array(im)[:,:,0]) #  숫자로 변환 시킴\n",
    "print(x.shape)"
   ]
  },
  {
   "cell_type": "code",
   "execution_count": 18,
   "id": "32301a16",
   "metadata": {},
   "outputs": [
    {
     "name": "stdout",
     "output_type": "stream",
     "text": [
      "1/1 [==============================] - 0s 26ms/step\n",
      "[[0. 0. 0. 0. 0. 0. 0. 0. 1. 0.]]\n"
     ]
    },
    {
     "data": {
      "image/png": "[encoded data removed]",
      "text/plain": [
       "<Figure size 640x480 with 1 Axes>"
      ]
     },
     "metadata": {},
     "output_type": "display_data"
    }
   ],
   "source": [
    "# print(x.reshape(1, 28, 28))\n",
    "x = x.reshape(1, 28, 28)\n",
    "print(model.predict(x))\n",
    "plt.imshow(x[0], cmap='Greys')\n",
    "plt.show()"
   ]
  },
  {
   "cell_type": "code",
   "execution_count": 29,
   "id": "20c3cc3e",
   "metadata": {},
   "outputs": [
    {
     "data": {
      "text/plain": [
       "(1, 28, 28)"
      ]
     },
     "execution_count": 29,
     "metadata": {},
     "output_type": "execute_result"
    }
   ],
   "source": [
    "X_test[0].reshape(1,28, 28)"
   ]
  },
  {
   "cell_type": "code",
   "execution_count": 31,
   "id": "b4838646",
   "metadata": {},
   "outputs": [
    {
     "data": {
      "image/png": "[encoded data removed]",
      "text/plain": [
       "<Figure size 640x480 with 1 Axes>"
      ]
     },
     "metadata": {},
     "output_type": "display_data"
    }
   ],
   "source": [
    "plt.imshow(X_test[0], cmap='Greys')\n",
    "plt.show()"
   ]
  },
  {
   "cell_type": "code",
   "execution_count": null,
   "id": "652f3382",
   "metadata": {},
   "outputs": [],
   "source": []
  }
 ],
 "metadata": {
  "kernelspec": {
   "display_name": "py3.8",
   "language": "python",
   "name": "py3.8"
  },
  "language_info": {
   "codemirror_mode": {
    "name": "ipython",
    "version": 3
   },
   "file_extension": ".py",
   "mimetype": "text/x-python",
   "name": "python",
   "nbconvert_exporter": "python",
   "pygments_lexer": "ipython3",
   "version": "3.8.16"
  }
 },
 "nbformat": 4,
 "nbformat_minor": 5
}
