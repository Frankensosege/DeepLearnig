{
 "cells": [
  {
   "cell_type": "code",
   "execution_count": 9,
   "id": "6a6d3068",
   "metadata": {},
   "outputs": [],
   "source": [
    "# %load deep_module.py\n",
    "from tensorflow.keras.models import Sequential\n",
    "from tensorflow.keras.layers import Dense, Flatten\n",
    "from tensorflow.keras.callbacks import ModelCheckpoint, EarlyStopping\n",
    "from tensorflow.keras.utils import to_categorical\n",
    "\n",
    "import matplotlib.pyplot as plt\n",
    "import pandas as pd\n",
    "import numpy as np"
   ]
  },
  {
   "cell_type": "code",
   "execution_count": 16,
   "id": "96a10f84",
   "metadata": {},
   "outputs": [
    {
     "name": "stdout",
     "output_type": "stream",
     "text": [
      "(60000, 28, 28) (60000,) (10000, 28, 28) (10000,)\n"
     ]
    }
   ],
   "source": [
    "from tensorflow.keras.datasets import fashion_mnist\n",
    "\n",
    "(X_train, y_train),(X_test, y_test) = fashion_mnist.load_data()\n",
    "print(X_train.shape, y_train.shape, X_test.shape, y_test.shape)"
   ]
  },
  {
   "cell_type": "code",
   "execution_count": 6,
   "id": "5e6cb851",
   "metadata": {},
   "outputs": [
    {
     "name": "stdout",
     "output_type": "stream",
     "text": [
      "[0 1 2 3 4 5 6 7 8 9]\n"
     ]
    }
   ],
   "source": [
    "# 0 : T-shirt/top, 1 : Trouser, 2 : Pullover, 3 : Dress, 4 : Coat, 5 : Sandal\n",
    "# 6 : Shirt, 7 : Sneaker, 8 : Bag, 9 : Ankel boot\n",
    "\n",
    "print(np.unique(y_train))"
   ]
  },
  {
   "cell_type": "code",
   "execution_count": 17,
   "id": "c9b8962f",
   "metadata": {},
   "outputs": [],
   "source": [
    "X_train = X_train.astype('float64') / 255\n",
    "X_test = X_test.astype('float64') / 255\n",
    "y_train = to_categorical(y_train)\n",
    "y_test = to_categorical(y_test)"
   ]
  },
  {
   "cell_type": "code",
   "execution_count": 20,
   "id": "9ebf3bec",
   "metadata": {},
   "outputs": [
    {
     "name": "stdout",
     "output_type": "stream",
     "text": [
      "Epoch 1/50\n",
      "240/240 [==============================] - 3s 12ms/step - loss: 0.5521 - accuracy: 0.8065 - val_loss: 0.4326 - val_accuracy: 0.8486\n",
      "Epoch 2/50\n",
      "240/240 [==============================] - 3s 12ms/step - loss: 0.3999 - accuracy: 0.8583 - val_loss: 0.3951 - val_accuracy: 0.8610\n",
      "Epoch 3/50\n",
      "240/240 [==============================] - 3s 12ms/step - loss: 0.3531 - accuracy: 0.8746 - val_loss: 0.3811 - val_accuracy: 0.8698\n",
      "Epoch 4/50\n",
      "240/240 [==============================] - 3s 12ms/step - loss: 0.3251 - accuracy: 0.8827 - val_loss: 0.3507 - val_accuracy: 0.8778\n",
      "Epoch 5/50\n",
      "240/240 [==============================] - 3s 12ms/step - loss: 0.3029 - accuracy: 0.8897 - val_loss: 0.3357 - val_accuracy: 0.8804\n",
      "Epoch 6/50\n",
      "240/240 [==============================] - 3s 12ms/step - loss: 0.2912 - accuracy: 0.8938 - val_loss: 0.3251 - val_accuracy: 0.8817\n",
      "Epoch 7/50\n",
      "240/240 [==============================] - 3s 12ms/step - loss: 0.2721 - accuracy: 0.9001 - val_loss: 0.3217 - val_accuracy: 0.8837\n",
      "Epoch 8/50\n",
      "240/240 [==============================] - 3s 12ms/step - loss: 0.2593 - accuracy: 0.9050 - val_loss: 0.3138 - val_accuracy: 0.8857\n",
      "Epoch 9/50\n",
      "240/240 [==============================] - 3s 12ms/step - loss: 0.2475 - accuracy: 0.9092 - val_loss: 0.3123 - val_accuracy: 0.8882\n",
      "Epoch 10/50\n",
      "240/240 [==============================] - 3s 12ms/step - loss: 0.2377 - accuracy: 0.9132 - val_loss: 0.3179 - val_accuracy: 0.8837\n",
      "Epoch 11/50\n",
      "240/240 [==============================] - 3s 12ms/step - loss: 0.2339 - accuracy: 0.9139 - val_loss: 0.3067 - val_accuracy: 0.8888\n",
      "Epoch 12/50\n",
      "240/240 [==============================] - 3s 12ms/step - loss: 0.2197 - accuracy: 0.9190 - val_loss: 0.3172 - val_accuracy: 0.8867\n",
      "Epoch 13/50\n",
      "240/240 [==============================] - 3s 12ms/step - loss: 0.2137 - accuracy: 0.9208 - val_loss: 0.3091 - val_accuracy: 0.8904\n",
      "Epoch 14/50\n",
      "240/240 [==============================] - 3s 12ms/step - loss: 0.2063 - accuracy: 0.9247 - val_loss: 0.3086 - val_accuracy: 0.8923\n",
      "Epoch 15/50\n",
      "240/240 [==============================] - 3s 12ms/step - loss: 0.1955 - accuracy: 0.9287 - val_loss: 0.3075 - val_accuracy: 0.8936\n",
      "Epoch 16/50\n",
      "240/240 [==============================] - 3s 12ms/step - loss: 0.1896 - accuracy: 0.9307 - val_loss: 0.3025 - val_accuracy: 0.8938\n",
      "Epoch 17/50\n",
      "240/240 [==============================] - 3s 12ms/step - loss: 0.1830 - accuracy: 0.9325 - val_loss: 0.3096 - val_accuracy: 0.8954\n",
      "Epoch 18/50\n",
      "240/240 [==============================] - 3s 13ms/step - loss: 0.1784 - accuracy: 0.9343 - val_loss: 0.3050 - val_accuracy: 0.8954\n",
      "Epoch 19/50\n",
      "240/240 [==============================] - 3s 13ms/step - loss: 0.1737 - accuracy: 0.9355 - val_loss: 0.2998 - val_accuracy: 0.8962\n",
      "Epoch 20/50\n",
      "240/240 [==============================] - 3s 12ms/step - loss: 0.1646 - accuracy: 0.9400 - val_loss: 0.2987 - val_accuracy: 0.8964\n",
      "Epoch 21/50\n",
      "240/240 [==============================] - 3s 12ms/step - loss: 0.1596 - accuracy: 0.9421 - val_loss: 0.3119 - val_accuracy: 0.8967\n",
      "Epoch 22/50\n",
      "240/240 [==============================] - 3s 12ms/step - loss: 0.1566 - accuracy: 0.9424 - val_loss: 0.3186 - val_accuracy: 0.8933\n",
      "Epoch 23/50\n",
      "240/240 [==============================] - 3s 12ms/step - loss: 0.1508 - accuracy: 0.9446 - val_loss: 0.3189 - val_accuracy: 0.8947\n",
      "Epoch 24/50\n",
      "240/240 [==============================] - 3s 12ms/step - loss: 0.1459 - accuracy: 0.9458 - val_loss: 0.3227 - val_accuracy: 0.8940\n",
      "Epoch 25/50\n",
      "240/240 [==============================] - 3s 13ms/step - loss: 0.1434 - accuracy: 0.9470 - val_loss: 0.3156 - val_accuracy: 0.8968\n",
      "Epoch 26/50\n",
      "240/240 [==============================] - 3s 13ms/step - loss: 0.1351 - accuracy: 0.9507 - val_loss: 0.3152 - val_accuracy: 0.8972\n",
      "Epoch 27/50\n",
      "240/240 [==============================] - 3s 12ms/step - loss: 0.1337 - accuracy: 0.9518 - val_loss: 0.3181 - val_accuracy: 0.8947\n",
      "Epoch 28/50\n",
      "240/240 [==============================] - 3s 12ms/step - loss: 0.1249 - accuracy: 0.9544 - val_loss: 0.3226 - val_accuracy: 0.8997\n",
      "Epoch 29/50\n",
      "240/240 [==============================] - 3s 13ms/step - loss: 0.1233 - accuracy: 0.9549 - val_loss: 0.3207 - val_accuracy: 0.8965\n",
      "Epoch 30/50\n",
      "240/240 [==============================] - 3s 12ms/step - loss: 0.1187 - accuracy: 0.9575 - val_loss: 0.3503 - val_accuracy: 0.8910\n",
      "Epoch 31/50\n",
      "240/240 [==============================] - 3s 13ms/step - loss: 0.1183 - accuracy: 0.9564 - val_loss: 0.3432 - val_accuracy: 0.8927\n",
      "Epoch 32/50\n",
      "240/240 [==============================] - 3s 12ms/step - loss: 0.1127 - accuracy: 0.9590 - val_loss: 0.3345 - val_accuracy: 0.8980\n",
      "Epoch 33/50\n",
      "240/240 [==============================] - 3s 12ms/step - loss: 0.1074 - accuracy: 0.9607 - val_loss: 0.3344 - val_accuracy: 0.8955\n",
      "Epoch 34/50\n",
      "240/240 [==============================] - 3s 12ms/step - loss: 0.1046 - accuracy: 0.9631 - val_loss: 0.3564 - val_accuracy: 0.8925\n",
      "Epoch 35/50\n",
      "240/240 [==============================] - 3s 12ms/step - loss: 0.1051 - accuracy: 0.9614 - val_loss: 0.3810 - val_accuracy: 0.8928\n",
      "Epoch 36/50\n",
      "240/240 [==============================] - 3s 13ms/step - loss: 0.0998 - accuracy: 0.9638 - val_loss: 0.3468 - val_accuracy: 0.8977\n",
      "Epoch 37/50\n",
      "240/240 [==============================] - 3s 12ms/step - loss: 0.0943 - accuracy: 0.9653 - val_loss: 0.3708 - val_accuracy: 0.8931\n",
      "Epoch 38/50\n",
      "240/240 [==============================] - 3s 13ms/step - loss: 0.0927 - accuracy: 0.9674 - val_loss: 0.3577 - val_accuracy: 0.8947\n",
      "Epoch 39/50\n",
      "240/240 [==============================] - 3s 13ms/step - loss: 0.0914 - accuracy: 0.9662 - val_loss: 0.3580 - val_accuracy: 0.8983\n",
      "Epoch 40/50\n",
      "240/240 [==============================] - 3s 12ms/step - loss: 0.0884 - accuracy: 0.9682 - val_loss: 0.3543 - val_accuracy: 0.9030\n"
     ]
    }
   ],
   "source": [
    "stoppoint = EarlyStopping(monitor='val_loss', patience=20)\n",
    "\n",
    "model = Sequential(Flatten(input_shape=(28, 28)))\n",
    "model.add(Dense(512, activation='relu'))\n",
    "model.add(Dense(10, activation='sigmoid'))\n",
    "model.compile(loss='categorical_crossentropy', optimizer='adam', metrics='accuracy')\n",
    "history = model.fit(X_train, y_train, epochs=50, batch_size=200, validation_split=0.2, callbacks=[stoppoint])"
   ]
  },
  {
   "cell_type": "code",
   "execution_count": 34,
   "id": "63cf3611",
   "metadata": {},
   "outputs": [
    {
     "data": {
      "text/plain": [
       "<function matplotlib.pyplot.show(close=None, block=None)>"
      ]
     },
     "execution_count": 34,
     "metadata": {},
     "output_type": "execute_result"
    },
    {
     "data": {
      "image/png": "[encoded data removed]",
      "text/plain": [
       "<Figure size 640x480 with 1 Axes>"
      ]
     },
     "metadata": {},
     "output_type": "display_data"
    }
   ],
   "source": [
    "y_vloss = history.history['val_loss']\n",
    "y_loss = history.history['loss']\n",
    "x_num = np.arange(len(y_vloss))\n",
    "\n",
    "plt.plot(x_num, y_vloss, marker='.', c='red', label='val_loss')\n",
    "plt.plot(x_num, y_loss, marker='.', c='blue', label='loss')\n",
    "plt.legend(loc='best')\n",
    "plt.grid()\n",
    "plt.xlabel('epoch')\n",
    "plt.ylabel('loss')\n",
    "plt.show"
   ]
  },
  {
   "cell_type": "code",
   "execution_count": 21,
   "id": "42d3ece0",
   "metadata": {},
   "outputs": [
    {
     "name": "stdout",
     "output_type": "stream",
     "text": [
      "313/313 [==============================] - 1s 3ms/step - loss: 0.3946 - accuracy: 0.8975\n"
     ]
    }
   ],
   "source": [
    "score = model.evaluate(X_test, y_test)"
   ]
  },
  {
   "cell_type": "code",
   "execution_count": 32,
   "id": "2150d4d9",
   "metadata": {},
   "outputs": [
    {
     "name": "stdout",
     "output_type": "stream",
     "text": [
      "(400, 431)\n",
      "(28, 28)\n"
     ]
    }
   ],
   "source": [
    "from PIL import Image\n",
    " \n",
    "# 이미지 열기\n",
    "im = Image.open('./data/img/shoose-1.jpg')\n",
    "# 이미지 크기 출력\n",
    "print(im.size)\n",
    "im = im.resize((28, 28))\n",
    "\n",
    "x = 255 - (np.array(im)[:,:,0]) #  숫자로 변환 시킴\n",
    "print(x.shape)"
   ]
  },
  {
   "cell_type": "code",
   "execution_count": 33,
   "id": "32301a16",
   "metadata": {},
   "outputs": [
    {
     "name": "stdout",
     "output_type": "stream",
     "text": [
      "(28, 28)\n",
      "WARNING:tensorflow:Model was constructed with shape (None, 28, 28) for input KerasTensor(type_spec=TensorSpec(shape=(None, 28, 28), dtype=tf.float32, name='flatten_4_input'), name='flatten_4_input', description=\"created by layer 'flatten_4_input'\"), but it was called on an input with incompatible shape (None, 28).\n"
     ]
    },
    {
     "ename": "ValueError",
     "evalue": "in user code:\n\n    File \"C:\\Users\\frank\\anaconda3\\envs\\py3.8\\lib\\site-packages\\keras\\engine\\training.py\", line 2137, in predict_function  *\n        return step_function(self, iterator)\n    File \"C:\\Users\\frank\\anaconda3\\envs\\py3.8\\lib\\site-packages\\keras\\engine\\training.py\", line 2123, in step_function  **\n        outputs = model.distribute_strategy.run(run_step, args=(data,))\n    File \"C:\\Users\\frank\\anaconda3\\envs\\py3.8\\lib\\site-packages\\keras\\engine\\training.py\", line 2111, in run_step  **\n        outputs = model.predict_step(data)\n    File \"C:\\Users\\frank\\anaconda3\\envs\\py3.8\\lib\\site-packages\\keras\\engine\\training.py\", line 2079, in predict_step\n        return self(x, training=False)\n    File \"C:\\Users\\frank\\anaconda3\\envs\\py3.8\\lib\\site-packages\\keras\\utils\\traceback_utils.py\", line 70, in error_handler\n        raise e.with_traceback(filtered_tb) from None\n    File \"C:\\Users\\frank\\anaconda3\\envs\\py3.8\\lib\\site-packages\\keras\\engine\\input_spec.py\", line 277, in assert_input_compatibility\n        raise ValueError(\n\n    ValueError: Exception encountered when calling layer 'sequential_4' (type Sequential).\n    \n    Input 0 of layer \"dense_8\" is incompatible with the layer: expected axis -1 of input shape to have value 784, but received input with shape (None, 28)\n    \n    Call arguments received by layer 'sequential_4' (type Sequential):\n      • inputs=tf.Tensor(shape=(None, 28), dtype=uint8)\n      • training=False\n      • mask=None\n",
     "output_type": "error",
     "traceback": [
      "\u001b[1;31m---------------------------------------------------------------------------\u001b[0m",
      "\u001b[1;31mValueError\u001b[0m                                Traceback (most recent call last)",
      "Cell \u001b[1;32mIn[33], line 2\u001b[0m\n\u001b[0;32m      1\u001b[0m \u001b[38;5;28mprint\u001b[39m(x\u001b[38;5;241m.\u001b[39mshape)\n\u001b[1;32m----> 2\u001b[0m \u001b[38;5;28mprint\u001b[39m(\u001b[43mmodel\u001b[49m\u001b[38;5;241;43m.\u001b[39;49m\u001b[43mpredict\u001b[49m\u001b[43m(\u001b[49m\u001b[43mx\u001b[49m\u001b[43m)\u001b[49m)\n",
      "File \u001b[1;32m~\\anaconda3\\envs\\py3.8\\lib\\site-packages\\keras\\utils\\traceback_utils.py:70\u001b[0m, in \u001b[0;36mfilter_traceback.<locals>.error_handler\u001b[1;34m(*args, **kwargs)\u001b[0m\n\u001b[0;32m     67\u001b[0m     filtered_tb \u001b[38;5;241m=\u001b[39m _process_traceback_frames(e\u001b[38;5;241m.\u001b[39m__traceback__)\n\u001b[0;32m     68\u001b[0m     \u001b[38;5;66;03m# To get the full stack trace, call:\u001b[39;00m\n\u001b[0;32m     69\u001b[0m     \u001b[38;5;66;03m# `tf.debugging.disable_traceback_filtering()`\u001b[39;00m\n\u001b[1;32m---> 70\u001b[0m     \u001b[38;5;28;01mraise\u001b[39;00m e\u001b[38;5;241m.\u001b[39mwith_traceback(filtered_tb) \u001b[38;5;28;01mfrom\u001b[39;00m \u001b[38;5;28mNone\u001b[39m\n\u001b[0;32m     71\u001b[0m \u001b[38;5;28;01mfinally\u001b[39;00m:\n\u001b[0;32m     72\u001b[0m     \u001b[38;5;28;01mdel\u001b[39;00m filtered_tb\n",
      "File \u001b[1;32m~\\AppData\\Local\\Temp\\__autograph_generated_file166jq6xo.py:15\u001b[0m, in \u001b[0;36mouter_factory.<locals>.inner_factory.<locals>.tf__predict_function\u001b[1;34m(iterator)\u001b[0m\n\u001b[0;32m     13\u001b[0m \u001b[38;5;28;01mtry\u001b[39;00m:\n\u001b[0;32m     14\u001b[0m     do_return \u001b[38;5;241m=\u001b[39m \u001b[38;5;28;01mTrue\u001b[39;00m\n\u001b[1;32m---> 15\u001b[0m     retval_ \u001b[38;5;241m=\u001b[39m ag__\u001b[38;5;241m.\u001b[39mconverted_call(ag__\u001b[38;5;241m.\u001b[39mld(step_function), (ag__\u001b[38;5;241m.\u001b[39mld(\u001b[38;5;28mself\u001b[39m), ag__\u001b[38;5;241m.\u001b[39mld(iterator)), \u001b[38;5;28;01mNone\u001b[39;00m, fscope)\n\u001b[0;32m     16\u001b[0m \u001b[38;5;28;01mexcept\u001b[39;00m:\n\u001b[0;32m     17\u001b[0m     do_return \u001b[38;5;241m=\u001b[39m \u001b[38;5;28;01mFalse\u001b[39;00m\n",
      "\u001b[1;31mValueError\u001b[0m: in user code:\n\n    File \"C:\\Users\\frank\\anaconda3\\envs\\py3.8\\lib\\site-packages\\keras\\engine\\training.py\", line 2137, in predict_function  *\n        return step_function(self, iterator)\n    File \"C:\\Users\\frank\\anaconda3\\envs\\py3.8\\lib\\site-packages\\keras\\engine\\training.py\", line 2123, in step_function  **\n        outputs = model.distribute_strategy.run(run_step, args=(data,))\n    File \"C:\\Users\\frank\\anaconda3\\envs\\py3.8\\lib\\site-packages\\keras\\engine\\training.py\", line 2111, in run_step  **\n        outputs = model.predict_step(data)\n    File \"C:\\Users\\frank\\anaconda3\\envs\\py3.8\\lib\\site-packages\\keras\\engine\\training.py\", line 2079, in predict_step\n        return self(x, training=False)\n    File \"C:\\Users\\frank\\anaconda3\\envs\\py3.8\\lib\\site-packages\\keras\\utils\\traceback_utils.py\", line 70, in error_handler\n        raise e.with_traceback(filtered_tb) from None\n    File \"C:\\Users\\frank\\anaconda3\\envs\\py3.8\\lib\\site-packages\\keras\\engine\\input_spec.py\", line 277, in assert_input_compatibility\n        raise ValueError(\n\n    ValueError: Exception encountered when calling layer 'sequential_4' (type Sequential).\n    \n    Input 0 of layer \"dense_8\" is incompatible with the layer: expected axis -1 of input shape to have value 784, but received input with shape (None, 28)\n    \n    Call arguments received by layer 'sequential_4' (type Sequential):\n      • inputs=tf.Tensor(shape=(None, 28), dtype=uint8)\n      • training=False\n      • mask=None\n"
     ]
    }
   ],
   "source": [
    "print(x.shape)\n",
    "print(model.predict(x))"
   ]
  },
  {
   "cell_type": "code",
   "execution_count": 29,
   "id": "20c3cc3e",
   "metadata": {},
   "outputs": [
    {
     "data": {
      "text/plain": [
       "(1, 28, 28)"
      ]
     },
     "execution_count": 29,
     "metadata": {},
     "output_type": "execute_result"
    }
   ],
   "source": [
    "X_test[0].reshape(1,28, 28)"
   ]
  },
  {
   "cell_type": "code",
   "execution_count": 31,
   "id": "b4838646",
   "metadata": {},
   "outputs": [
    {
     "data": {
      "image/png": "[encoded data removed]",
      "text/plain": [
       "<Figure size 640x480 with 1 Axes>"
      ]
     },
     "metadata": {},
     "output_type": "display_data"
    }
   ],
   "source": [
    "plt.imshow(X_test[0], cmap='Greys')\n",
    "plt.show()"
   ]
  },
  {
   "cell_type": "code",
   "execution_count": null,
   "id": "652f3382",
   "metadata": {},
   "outputs": [],
   "source": []
  }
 ],
 "metadata": {
  "kernelspec": {
   "display_name": "py3.8",
   "language": "python",
   "name": "py3.8"
  },
  "language_info": {
   "codemirror_mode": {
    "name": "ipython",
    "version": 3
   },
   "file_extension": ".py",
   "mimetype": "text/x-python",
   "name": "python",
   "nbconvert_exporter": "python",
   "pygments_lexer": "ipython3",
   "version": "3.8.16"
  }
 },
 "nbformat": 4,
 "nbformat_minor": 5
}
