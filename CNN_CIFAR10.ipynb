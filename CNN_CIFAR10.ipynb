{
 "cells": [
  {
   "cell_type": "code",
   "execution_count": 2,
   "id": "5f04b6d4",
   "metadata": {},
   "outputs": [],
   "source": [
    "# %load deep_module.py\n",
    "from tensorflow.keras.models import Sequential\n",
    "from tensorflow.keras.layers import Dense, Conv2D, Dropout, MaxPooling2D, Flatten\n",
    "from tensorflow.keras.callbacks import ModelCheckpoint, EarlyStopping\n",
    "from tensorflow.keras.utils import to_categorical\n",
    "\n",
    "import matplotlib.pyplot as plt\n",
    "import pandas as pd\n",
    "import numpy as np"
   ]
  },
  {
   "cell_type": "code",
   "execution_count": 4,
   "id": "0ab87fe1",
   "metadata": {},
   "outputs": [
    {
     "name": "stdout",
     "output_type": "stream",
     "text": [
      "Downloading data from https://www.cs.toronto.edu/~kriz/cifar-10-python.tar.gz\n",
      "170498071/170498071 [==============================] - 16s 0us/step\n",
      "(50000, 32, 32, 3) (50000, 1) (10000, 32, 32, 3) (10000, 1)\n"
     ]
    }
   ],
   "source": [
    "from tensorflow.keras.datasets import cifar10\n",
    "\n",
    "(X_train, y_train),(X_test, y_test) =  cifar10.load_data()\n",
    "print(X_train.shape, y_train.shape, X_test.shape, y_test.shape)"
   ]
  },
  {
   "cell_type": "code",
   "execution_count": 7,
   "id": "c3d732a1",
   "metadata": {},
   "outputs": [
    {
     "data": {
      "image/png": "[encoded data removed]",
      "text/plain": [
       "<Figure size 640x480 with 1 Axes>"
      ]
     },
     "metadata": {},
     "output_type": "display_data"
    }
   ],
   "source": [
    "plt.imshow(X_train[0])\n",
    "plt.show()"
   ]
  },
  {
   "cell_type": "code",
   "execution_count": 8,
   "id": "f9397dc1",
   "metadata": {},
   "outputs": [
    {
     "name": "stdout",
     "output_type": "stream",
     "text": [
      "[0 1 2 3 4 5 6 7 8 9]\n"
     ]
    }
   ],
   "source": [
    "# 데이터 정규화 및 해렬 reshape\n",
    "X_train = X_train.astype('float32') / 255\n",
    "X_test = X_test.astype('float32') / 255\n",
    "\n",
    "print(np.unique(y_train)) # 클래스 확인(10개)"
   ]
  },
  {
   "cell_type": "code",
   "execution_count": 9,
   "id": "37b1dd75",
   "metadata": {},
   "outputs": [],
   "source": [
    "class_name = {0:'airplane', 1:'automobile', 2:'bird', 3:'cat', 4:'deer', 5:'dog', 6:'frog', 7:'horse', 8:'ship', 9:'truck'}"
   ]
  },
  {
   "cell_type": "code",
   "execution_count": 11,
   "id": "cbbf2754",
   "metadata": {},
   "outputs": [
    {
     "name": "stdout",
     "output_type": "stream",
     "text": [
      "Model: \"sequential_1\"\n",
      "_________________________________________________________________\n",
      " Layer (type)                Output Shape              Param #   \n",
      "=================================================================\n",
      " conv2d_2 (Conv2D)           (None, 30, 30, 32)        896       \n",
      "                                                                 \n",
      " conv2d_3 (Conv2D)           (None, 30, 30, 64)        18496     \n",
      "                                                                 \n",
      " max_pooling2d_1 (MaxPooling  (None, 15, 15, 64)       0         \n",
      " 2D)                                                             \n",
      "                                                                 \n",
      " dropout_2 (Dropout)         (None, 15, 15, 64)        0         \n",
      "                                                                 \n",
      " flatten_1 (Flatten)         (None, 14400)             0         \n",
      "                                                                 \n",
      " dense_2 (Dense)             (None, 128)               1843328   \n",
      "                                                                 \n",
      " dropout_3 (Dropout)         (None, 128)               0         \n",
      "                                                                 \n",
      " dense_3 (Dense)             (None, 10)                1290      \n",
      "                                                                 \n",
      "=================================================================\n",
      "Total params: 1,864,010\n",
      "Trainable params: 1,864,010\n",
      "Non-trainable params: 0\n",
      "_________________________________________________________________\n"
     ]
    }
   ],
   "source": [
    "model = Sequential()\n",
    "model.add(Conv2D(32, kernel_size=(3,3), input_shape=(32, 32, 3), activation='relu'))\n",
    "model.add(Conv2D(64, (3,3), padding='same', activation='relu'))\n",
    "model.add(MaxPooling2D(pool_size=(2,2)))\n",
    "model.add(Dropout(0.2))\n",
    "model.add(Flatten())\n",
    "model.add(Dense(128, activation='relu'))\n",
    "model.add(Dense(64, activation='relu'))\n",
    "model.add(Dropout(0.5))\n",
    "model.add(Dense(10, activation='softmax'))\n",
    "model.summary()"
   ]
  },
  {
   "cell_type": "code",
   "execution_count": 12,
   "id": "bce9820d",
   "metadata": {},
   "outputs": [
    {
     "name": "stdout",
     "output_type": "stream",
     "text": [
      "\n",
      "Epoch 1: val_loss improved from inf to 1.37701, saving model to ./data/model/all\\cnn-001-0.5179.hdf5\n",
      "\n",
      "Epoch 2: val_loss improved from 1.37701 to 1.23185, saving model to ./data/model/all\\cnn-002-0.5654.hdf5\n",
      "\n",
      "Epoch 3: val_loss improved from 1.23185 to 1.13035, saving model to ./data/model/all\\cnn-003-0.6071.hdf5\n",
      "\n",
      "Epoch 4: val_loss improved from 1.13035 to 1.03990, saving model to ./data/model/all\\cnn-004-0.6393.hdf5\n",
      "\n",
      "Epoch 5: val_loss improved from 1.03990 to 1.00041, saving model to ./data/model/all\\cnn-005-0.6539.hdf5\n",
      "\n",
      "Epoch 6: val_loss improved from 1.00041 to 0.97615, saving model to ./data/model/all\\cnn-006-0.6614.hdf5\n",
      "\n",
      "Epoch 7: val_loss improved from 0.97615 to 0.96538, saving model to ./data/model/all\\cnn-007-0.6647.hdf5\n",
      "\n",
      "Epoch 8: val_loss improved from 0.96538 to 0.93764, saving model to ./data/model/all\\cnn-008-0.6750.hdf5\n",
      "\n",
      "Epoch 9: val_loss improved from 0.93764 to 0.91947, saving model to ./data/model/all\\cnn-009-0.6797.hdf5\n",
      "\n",
      "Epoch 10: val_loss improved from 0.91947 to 0.91494, saving model to ./data/model/all\\cnn-010-0.6828.hdf5\n",
      "\n",
      "Epoch 11: val_loss did not improve from 0.91494\n",
      "\n",
      "Epoch 12: val_loss improved from 0.91494 to 0.91434, saving model to ./data/model/all\\cnn-012-0.6896.hdf5\n",
      "\n",
      "Epoch 13: val_loss did not improve from 0.91434\n",
      "\n",
      "Epoch 14: val_loss improved from 0.91434 to 0.90676, saving model to ./data/model/all\\cnn-014-0.6890.hdf5\n",
      "\n",
      "Epoch 15: val_loss did not improve from 0.90676\n",
      "\n",
      "Epoch 16: val_loss did not improve from 0.90676\n",
      "\n",
      "Epoch 17: val_loss did not improve from 0.90676\n",
      "\n",
      "Epoch 18: val_loss did not improve from 0.90676\n",
      "\n",
      "Epoch 19: val_loss did not improve from 0.90676\n",
      "\n",
      "Epoch 20: val_loss did not improve from 0.90676\n",
      "\n",
      "Epoch 21: val_loss did not improve from 0.90676\n",
      "\n",
      "Epoch 22: val_loss did not improve from 0.90676\n",
      "\n",
      "Epoch 23: val_loss did not improve from 0.90676\n",
      "\n",
      "Epoch 24: val_loss did not improve from 0.90676\n"
     ]
    }
   ],
   "source": [
    "model.compile(loss='sparse_categorical_crossentropy', optimizer='adam', metrics=['accuracy'])\n",
    "\n",
    "early_stop = EarlyStopping(monitor='val_loss', patience=10)\n",
    "modelpath = './data/model/all/cnn-{epoch:03d}-{val_accuracy:.4f}.hdf5'\n",
    "checkpointer = ModelCheckpoint(filepath=modelpath, verbose=1, save_best_only=True)\n",
    "\n",
    "history = model.fit(X_train, y_train, validation_split=0.25, epochs=30, batch_size=200, verbose=0, callbacks=[early_stop, checkpointer])"
   ]
  },
  {
   "cell_type": "code",
   "execution_count": 13,
   "id": "8ac75f82",
   "metadata": {},
   "outputs": [
    {
     "data": {
      "image/png": "[encoded data removed]",
      "text/plain": [
       "<Figure size 640x480 with 1 Axes>"
      ]
     },
     "metadata": {},
     "output_type": "display_data"
    }
   ],
   "source": [
    "y_vloss = history.history['val_loss']\n",
    "y_loss = history.history['loss']\n",
    "x_num = np.arange(len(y_vloss))\n",
    "\n",
    "plt.plot(x_num, y_vloss, marker='.', c='red', label='Test_loss')\n",
    "plt.plot(x_num, y_loss, marker='.', c='blue', label='Train_loss')\n",
    "plt.legend(loc='best')\n",
    "plt.xlabel('epoch')\n",
    "plt.ylabel('loss')\n",
    "\n",
    "plt.show()"
   ]
  },
  {
   "cell_type": "code",
   "execution_count": 21,
   "id": "efc47148",
   "metadata": {},
   "outputs": [
    {
     "name": "stdout",
     "output_type": "stream",
     "text": [
      "1/1 [==============================] - 0s 182ms/step\n"
     ]
    },
    {
     "data": {
      "text/plain": [
       "array([[1.5089492e-04, 8.1237304e-01, 2.8899167e-05, 1.2161586e-03,\n",
       "        2.4317720e-05, 1.1293637e-05, 1.8473014e-01, 5.9459359e-07,\n",
       "        6.8072433e-04, 7.8393752e-04]], dtype=float32)"
      ]
     },
     "execution_count": 21,
     "metadata": {},
     "output_type": "execute_result"
    }
   ],
   "source": [
    "pd_class = model.predict(X_test[2000].reshape(1, 32, 32, 3))\n",
    "pd_class"
   ]
  },
  {
   "cell_type": "code",
   "execution_count": 22,
   "id": "f8573d13",
   "metadata": {},
   "outputs": [
    {
     "data": {
      "text/plain": [
       "'automobile'"
      ]
     },
     "execution_count": 22,
     "metadata": {},
     "output_type": "execute_result"
    }
   ],
   "source": [
    "class_name[pd_class.argmax()]"
   ]
  },
  {
   "cell_type": "code",
   "execution_count": null,
   "id": "5d82ebf1",
   "metadata": {},
   "outputs": [],
   "source": []
  }
 ],
 "metadata": {
  "kernelspec": {
   "display_name": "py3.8",
   "language": "python",
   "name": "py3.8"
  },
  "language_info": {
   "codemirror_mode": {
    "name": "ipython",
    "version": 3
   },
   "file_extension": ".py",
   "mimetype": "text/x-python",
   "name": "python",
   "nbconvert_exporter": "python",
   "pygments_lexer": "ipython3",
   "version": "3.8.16"
  }
 },
 "nbformat": 4,
 "nbformat_minor": 5
}
