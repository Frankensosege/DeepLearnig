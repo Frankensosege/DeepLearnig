{
 "cells": [
  {
   "cell_type": "code",
   "execution_count": 19,
   "id": "2a4b6c74",
   "metadata": {},
   "outputs": [],
   "source": [
    "from tensorflow.keras.preprocessing import sequence\n",
    "from tensorflow.keras.preprocessing.text import Tokenizer\n",
    "from tensorflow.keras.models import Sequential\n",
    "from tensorflow.keras.layers import Dense, Embedding, LSTM, Conv1D, Dropout, MaxPooling1D\n",
    "from tensorflow.keras.callbacks import EarlyStopping\n",
    "import numpy as np\n",
    "import matplotlib.pyplot as plt"
   ]
  },
  {
   "cell_type": "code",
   "execution_count": 2,
   "id": "3118a406",
   "metadata": {},
   "outputs": [
    {
     "name": "stdout",
     "output_type": "stream",
     "text": [
      "(8982,) (8982,) (2246,) (2246,)\n"
     ]
    }
   ],
   "source": [
    "from tensorflow.keras.datasets import reuters\n",
    "\n",
    "(X_train, y_train),(X_test, y_test) = reuters.load_data(num_words=1000, test_split=0.2) # num_words 빈도 수 num_words 이상 반복되는 단어\n",
    "print(X_train.shape, y_train.shape, X_test.shape, y_test.shape)"
   ]
  },
  {
   "cell_type": "code",
   "execution_count": 3,
   "id": "15faa4f2",
   "metadata": {},
   "outputs": [
    {
     "name": "stdout",
     "output_type": "stream",
     "text": [
      "[ 0  1  2  3  4  5  6  7  8  9 10 11 12 13 14 15 16 17 18 19 20 21 22 23\n",
      " 24 25 26 27 28 29 30 31 32 33 34 35 36 37 38 39 40 41 42 43 44 45]\n"
     ]
    }
   ],
   "source": [
    "print(np.unique(y_train))"
   ]
  },
  {
   "cell_type": "code",
   "execution_count": 4,
   "id": "8cfe01c5",
   "metadata": {},
   "outputs": [
    {
     "name": "stdout",
     "output_type": "stream",
     "text": [
      "46 카테고리\n"
     ]
    }
   ],
   "source": [
    "category = len(np.unique(y_train))\n",
    "print(category, '카테고리')"
   ]
  },
  {
   "cell_type": "code",
   "execution_count": 5,
   "id": "bd5093f4",
   "metadata": {},
   "outputs": [
    {
     "data": {
      "text/plain": [
       "[1,\n",
       " 2,\n",
       " 2,\n",
       " 8,\n",
       " 43,\n",
       " 10,\n",
       " 447,\n",
       " 5,\n",
       " 25,\n",
       " 207,\n",
       " 270,\n",
       " 5,\n",
       " 2,\n",
       " 111,\n",
       " 16,\n",
       " 369,\n",
       " 186,\n",
       " 90,\n",
       " 67,\n",
       " 7,\n",
       " 89,\n",
       " 5,\n",
       " 19,\n",
       " 102,\n",
       " 6,\n",
       " 19,\n",
       " 124,\n",
       " 15,\n",
       " 90,\n",
       " 67,\n",
       " 84,\n",
       " 22,\n",
       " 482,\n",
       " 26,\n",
       " 7,\n",
       " 48,\n",
       " 4,\n",
       " 49,\n",
       " 8,\n",
       " 864,\n",
       " 39,\n",
       " 209,\n",
       " 154,\n",
       " 6,\n",
       " 151,\n",
       " 6,\n",
       " 83,\n",
       " 11,\n",
       " 15,\n",
       " 22,\n",
       " 155,\n",
       " 11,\n",
       " 15,\n",
       " 7,\n",
       " 48,\n",
       " 9,\n",
       " 2,\n",
       " 2,\n",
       " 504,\n",
       " 6,\n",
       " 258,\n",
       " 6,\n",
       " 272,\n",
       " 11,\n",
       " 15,\n",
       " 22,\n",
       " 134,\n",
       " 44,\n",
       " 11,\n",
       " 15,\n",
       " 16,\n",
       " 8,\n",
       " 197,\n",
       " 2,\n",
       " 90,\n",
       " 67,\n",
       " 52,\n",
       " 29,\n",
       " 209,\n",
       " 30,\n",
       " 32,\n",
       " 132,\n",
       " 6,\n",
       " 109,\n",
       " 15,\n",
       " 17,\n",
       " 12]"
      ]
     },
     "execution_count": 5,
     "metadata": {},
     "output_type": "execute_result"
    }
   ],
   "source": [
    "X_train[0]"
   ]
  },
  {
   "cell_type": "code",
   "execution_count": 6,
   "id": "fd5e7780",
   "metadata": {},
   "outputs": [],
   "source": [
    "# X_train 학습용 기사, y_train 뉴스의 카테고리(46개 존재) Tokenizing이 끝난 상태\n",
    "# 각 기사의 단어 수를 맞추기 위해 padding\n",
    "X_train = sequence.pad_sequences(X_train, maxlen=100)\n",
    "X_test = sequence.pad_sequences(X_test, maxlen=100)"
   ]
  },
  {
   "cell_type": "code",
   "execution_count": 7,
   "id": "6e856ce3",
   "metadata": {},
   "outputs": [
    {
     "name": "stdout",
     "output_type": "stream",
     "text": [
      "(8982, 100)\n"
     ]
    }
   ],
   "source": [
    "print(X_train.shape)"
   ]
  },
  {
   "cell_type": "code",
   "execution_count": 8,
   "id": "22eeeb8a",
   "metadata": {},
   "outputs": [],
   "source": [
    "# y_train -> one-hot encoding\n",
    "# from tensorflow.keras.utils import to_categorical\n",
    "# y = to_categorical(y_train)\n",
    "# 카테고리가 믾아 (46개) 원핫 인코딩 안함"
   ]
  },
  {
   "cell_type": "code",
   "execution_count": 9,
   "id": "52f3e0a5",
   "metadata": {},
   "outputs": [
    {
     "name": "stdout",
     "output_type": "stream",
     "text": [
      "Model: \"sequential\"\n",
      "_________________________________________________________________\n",
      " Layer (type)                Output Shape              Param #   \n",
      "=================================================================\n",
      " embedding (Embedding)       (None, None, 100)         100000    \n",
      "                                                                 \n",
      " lstm (LSTM)                 (None, 100)               80400     \n",
      "                                                                 \n",
      " dense (Dense)               (None, 46)                4646      \n",
      "                                                                 \n",
      "=================================================================\n",
      "Total params: 185,046\n",
      "Trainable params: 185,046\n",
      "Non-trainable params: 0\n",
      "_________________________________________________________________\n"
     ]
    }
   ],
   "source": [
    "model = Sequential()\n",
    "model.add(Embedding(1000, 100))             # 1000, 기사당 단어 수 100\n",
    "model.add(LSTM(100, activation='tanh'))     # LSTM로 RNN 구현\n",
    "model.add(Dense(46, activation='softmax'))\n",
    "model.summary()"
   ]
  },
  {
   "cell_type": "code",
   "execution_count": 10,
   "id": "63572727",
   "metadata": {},
   "outputs": [
    {
     "name": "stdout",
     "output_type": "stream",
     "text": [
      "Epoch 1/200\n",
      "450/450 [==============================] - 27s 54ms/step - loss: 2.1457 - accuracy: 0.4690 - val_loss: 1.8570 - val_accuracy: 0.5561\n",
      "Epoch 2/200\n",
      "450/450 [==============================] - 25s 55ms/step - loss: 1.7629 - accuracy: 0.5521 - val_loss: 1.7288 - val_accuracy: 0.5579\n",
      "Epoch 3/200\n",
      "450/450 [==============================] - 24s 53ms/step - loss: 1.6327 - accuracy: 0.5819 - val_loss: 1.5897 - val_accuracy: 0.6042\n",
      "Epoch 4/200\n",
      "450/450 [==============================] - 23s 52ms/step - loss: 1.4644 - accuracy: 0.6278 - val_loss: 1.4636 - val_accuracy: 0.6220\n",
      "Epoch 5/200\n",
      "450/450 [==============================] - 24s 54ms/step - loss: 1.3039 - accuracy: 0.6679 - val_loss: 1.3367 - val_accuracy: 0.6638\n",
      "Epoch 6/200\n",
      "450/450 [==============================] - 24s 53ms/step - loss: 1.1810 - accuracy: 0.6993 - val_loss: 1.2744 - val_accuracy: 0.6808\n",
      "Epoch 7/200\n",
      "450/450 [==============================] - 24s 54ms/step - loss: 1.0688 - accuracy: 0.7303 - val_loss: 1.2078 - val_accuracy: 0.6999\n",
      "Epoch 8/200\n",
      "450/450 [==============================] - 24s 54ms/step - loss: 0.9762 - accuracy: 0.7538 - val_loss: 1.1861 - val_accuracy: 0.7128\n",
      "Epoch 9/200\n",
      "450/450 [==============================] - 25s 55ms/step - loss: 0.8968 - accuracy: 0.7750 - val_loss: 1.1111 - val_accuracy: 0.7253\n",
      "Epoch 10/200\n",
      "450/450 [==============================] - 24s 53ms/step - loss: 0.8361 - accuracy: 0.7902 - val_loss: 1.1394 - val_accuracy: 0.7195\n",
      "Epoch 11/200\n",
      "450/450 [==============================] - 27s 61ms/step - loss: 0.7693 - accuracy: 0.8058 - val_loss: 1.1302 - val_accuracy: 0.7226\n",
      "Epoch 12/200\n",
      "450/450 [==============================] - 26s 59ms/step - loss: 0.7159 - accuracy: 0.8199 - val_loss: 1.1481 - val_accuracy: 0.7244\n",
      "Epoch 13/200\n",
      "450/450 [==============================] - 24s 53ms/step - loss: 0.6658 - accuracy: 0.8352 - val_loss: 1.1495 - val_accuracy: 0.7329\n",
      "Epoch 14/200\n",
      "450/450 [==============================] - 24s 54ms/step - loss: 0.6121 - accuracy: 0.8476 - val_loss: 1.1764 - val_accuracy: 0.7266\n"
     ]
    }
   ],
   "source": [
    "model.compile(loss='sparse_categorical_crossentropy', optimizer='adam', metrics=['accuracy'])\n",
    "earlstop = EarlyStopping(monitor='val_loss', patience=5)\n",
    "history = model.fit(X_train, y_train, epochs=200, batch_size=20, validation_data=(X_test, y_test), callbacks=[earlstop])"
   ]
  },
  {
   "cell_type": "code",
   "execution_count": 11,
   "id": "7dc23b35",
   "metadata": {},
   "outputs": [
    {
     "name": "stdout",
     "output_type": "stream",
     "text": [
      "71/71 [==============================] - 2s 24ms/step - loss: 1.1764 - accuracy: 0.7266\n",
      "test 데이터의 정확도 : 0.7266250848770142\n"
     ]
    }
   ],
   "source": [
    "print('test 데이터의 정확도 :', model.evaluate(X_test, y_test)[1])"
   ]
  },
  {
   "cell_type": "code",
   "execution_count": 12,
   "id": "68cfc76f",
   "metadata": {},
   "outputs": [
    {
     "data": {
      "image/png": "[encoded data removed]",
      "text/plain": [
       "<Figure size 640x480 with 1 Axes>"
      ]
     },
     "metadata": {},
     "output_type": "display_data"
    }
   ],
   "source": [
    "# 학습 셋과 테스트 셋의 오차 그래프로 확인\n",
    "y_vloss = history.history['val_loss']\n",
    "y_loss = history.history['loss']\n",
    "x_num = np.arange(len(y_vloss))\n",
    "\n",
    "plt.plot(x_num, y_vloss, marker='.', c='red', label='val_loss')\n",
    "plt.plot(x_num, y_loss, marker='.', c='blue', label='loss')\n",
    "plt.legend(loc='best')\n",
    "plt.xlabel('epoch')\n",
    "plt.ylabel('loss')\n",
    "plt.show()"
   ]
  },
  {
   "cell_type": "code",
   "execution_count": 18,
   "id": "743b7ea4",
   "metadata": {},
   "outputs": [
    {
     "name": "stdout",
     "output_type": "stream",
     "text": [
      "1/1 [==============================] - 0s 31ms/step\n"
     ]
    },
    {
     "data": {
      "text/plain": [
       "[26, 44, 34]"
      ]
     },
     "execution_count": 18,
     "metadata": {},
     "output_type": "execute_result"
    }
   ],
   "source": [
    "test_news = ['중부지방은 대체로 맑으나 남부 지방은 구름이 많겠습니다',\n",
    "            '이번 선거에는 누가 이길 수 있을까?',\n",
    "            '올 초부터 유동성의 힘으로 주가가 일정하게 상승']\n",
    "token =Tokenizer()\n",
    "token.fit_on_texts(test_news)\n",
    "pre_news = token.texts_to_sequences(test_news)\n",
    "\n",
    "[np.argmax(line) for line in model.predict(sequence.pad_sequences(pre_news, maxlen=100))]"
   ]
  },
  {
   "cell_type": "markdown",
   "id": "b252bb38",
   "metadata": {},
   "source": [
    "## LSTM과 CNN 조합을 이용한 영화 리뷰 분류"
   ]
  },
  {
   "cell_type": "code",
   "execution_count": 21,
   "id": "f1568740",
   "metadata": {},
   "outputs": [
    {
     "name": "stdout",
     "output_type": "stream",
     "text": [
      "Downloading data from https://storage.googleapis.com/tensorflow/tf-keras-datasets/imdb.npz\n",
      "17464789/17464789 [==============================] - 1s 0us/step\n",
      "(25000,) (25000,) (25000,) (25000,)\n"
     ]
    }
   ],
   "source": [
    "from tensorflow.keras.datasets import imdb\n",
    "\n",
    "(X_train, y_train),(X_test, y_test) = imdb.load_data(num_words=5000) # num_words 빈도 수 num_words 이상 반복되는 단어\n",
    "print(X_train.shape, y_train.shape, X_test.shape, y_test.shape)"
   ]
  },
  {
   "cell_type": "code",
   "execution_count": 22,
   "id": "480c636a",
   "metadata": {},
   "outputs": [],
   "source": [
    "X_train = sequence.pad_sequences(X_train, maxlen=500)\n",
    "X_test = sequence.pad_sequences(X_test, maxlen=500)"
   ]
  },
  {
   "cell_type": "code",
   "execution_count": 23,
   "id": "c32fbb1e",
   "metadata": {},
   "outputs": [
    {
     "name": "stdout",
     "output_type": "stream",
     "text": [
      "Model: \"sequential_1\"\n",
      "_________________________________________________________________\n",
      " Layer (type)                Output Shape              Param #   \n",
      "=================================================================\n",
      " embedding_1 (Embedding)     (None, None, 100)         500000    \n",
      "                                                                 \n",
      " conv1d (Conv1D)             (None, None, 64)          25664     \n",
      "                                                                 \n",
      " dropout (Dropout)           (None, None, 64)          0         \n",
      "                                                                 \n",
      " max_pooling1d (MaxPooling1D  (None, None, 64)         0         \n",
      " )                                                               \n",
      "                                                                 \n",
      " lstm_1 (LSTM)               (None, 55)                26400     \n",
      "                                                                 \n",
      " dense_1 (Dense)             (None, 1)                 56        \n",
      "                                                                 \n",
      "=================================================================\n",
      "Total params: 552,120\n",
      "Trainable params: 552,120\n",
      "Non-trainable params: 0\n",
      "_________________________________________________________________\n"
     ]
    }
   ],
   "source": [
    "model = Sequential()\n",
    "model.add(Embedding(5000, 100))         # 단어 Embadding\n",
    "model.add(Conv1D(64, 4, padding='valid', activation='relu', strides=1))\n",
    "model.add(Dropout(0.5))\n",
    "model.add(MaxPooling1D(pool_size=4))\n",
    "model.add(LSTM(55))\n",
    "model.add(Dense(1, activation='sigmoid'))\n",
    "model.summary()"
   ]
  },
  {
   "cell_type": "code",
   "execution_count": 24,
   "id": "303b7e90",
   "metadata": {},
   "outputs": [
    {
     "name": "stdout",
     "output_type": "stream",
     "text": [
      "Epoch 1/100\n",
      "469/469 [==============================] - 75s 153ms/step - loss: 0.3900 - accuracy: 0.8135 - val_loss: 0.2921 - val_accuracy: 0.8893\n",
      "Epoch 2/100\n",
      "469/469 [==============================] - 72s 154ms/step - loss: 0.2322 - accuracy: 0.9098 - val_loss: 0.2711 - val_accuracy: 0.8867\n",
      "Epoch 3/100\n",
      "469/469 [==============================] - 72s 155ms/step - loss: 0.1743 - accuracy: 0.9364 - val_loss: 0.3018 - val_accuracy: 0.8802\n",
      "Epoch 4/100\n",
      "469/469 [==============================] - 72s 154ms/step - loss: 0.1283 - accuracy: 0.9554 - val_loss: 0.2998 - val_accuracy: 0.8842\n",
      "Epoch 5/100\n",
      "469/469 [==============================] - 71s 150ms/step - loss: 0.1009 - accuracy: 0.9663 - val_loss: 0.3365 - val_accuracy: 0.8781\n",
      "Epoch 6/100\n",
      "469/469 [==============================] - 73s 156ms/step - loss: 0.0688 - accuracy: 0.9781 - val_loss: 0.4157 - val_accuracy: 0.8803\n",
      "Epoch 7/100\n",
      "469/469 [==============================] - 73s 155ms/step - loss: 0.0559 - accuracy: 0.9823 - val_loss: 0.4808 - val_accuracy: 0.8643\n"
     ]
    }
   ],
   "source": [
    "# 모델 실행 옵션\n",
    "model.compile(loss='binary_crossentropy', optimizer='adam', metrics=['accuracy'])\n",
    "early_stop = EarlyStopping(monitor='val_loss', patience=5)\n",
    "history = model.fit(X_train, y_train, epochs=100, batch_size=40, validation_split=0.25, callbacks=[early_stop])"
   ]
  },
  {
   "cell_type": "code",
   "execution_count": 25,
   "id": "9bb98c1e",
   "metadata": {},
   "outputs": [
    {
     "name": "stdout",
     "output_type": "stream",
     "text": [
      "782/782 [==============================] - 33s 42ms/step - loss: 0.5327 - accuracy: 0.8518\n"
     ]
    },
    {
     "data": {
      "text/plain": [
       "[0.532656729221344, 0.8518000245094299]"
      ]
     },
     "execution_count": 25,
     "metadata": {},
     "output_type": "execute_result"
    }
   ],
   "source": [
    "model.evaluate(X_test, y_test)"
   ]
  },
  {
   "cell_type": "code",
   "execution_count": 26,
   "id": "4cb4fefb",
   "metadata": {},
   "outputs": [
    {
     "data": {
      "image/png": "[encoded data removed]",
      "text/plain": [
       "<Figure size 640x480 with 1 Axes>"
      ]
     },
     "metadata": {},
     "output_type": "display_data"
    }
   ],
   "source": [
    "# 학습 셋과 테스트 셋의 오차 그래프로 확인\n",
    "y_vloss = history.history['val_loss']\n",
    "y_loss = history.history['loss']\n",
    "x_num = np.arange(len(y_vloss))\n",
    "\n",
    "plt.plot(x_num, y_vloss, marker='.', c='red', label='val_loss')\n",
    "plt.plot(x_num, y_loss, marker='.', c='blue', label='loss')\n",
    "plt.legend(loc='best')\n",
    "plt.xlabel('epoch')\n",
    "plt.ylabel('loss')\n",
    "plt.show()"
   ]
  },
  {
   "cell_type": "code",
   "execution_count": null,
   "id": "f88e9dde",
   "metadata": {},
   "outputs": [],
   "source": []
  }
 ],
 "metadata": {
  "kernelspec": {
   "display_name": "py3.8",
   "language": "python",
   "name": "py3.8"
  },
  "language_info": {
   "codemirror_mode": {
    "name": "ipython",
    "version": 3
   },
   "file_extension": ".py",
   "mimetype": "text/x-python",
   "name": "python",
   "nbconvert_exporter": "python",
   "pygments_lexer": "ipython3",
   "version": "3.8.16"
  }
 },
 "nbformat": 4,
 "nbformat_minor": 5
}
