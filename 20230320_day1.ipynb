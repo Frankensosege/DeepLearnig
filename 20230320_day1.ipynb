{
 "cells": [
  {
   "cell_type": "code",
   "execution_count": 2,
   "id": "766c0f35",
   "metadata": {},
   "outputs": [],
   "source": [
    "from tensorflow.keras.models import Sequential\n",
    "from tensorflow.keras.layers import Dense\n",
    "import numpy as np"
   ]
  },
  {
   "cell_type": "code",
   "execution_count": 3,
   "id": "11f92b03",
   "metadata": {},
   "outputs": [],
   "source": [
    "data_set = np.loadtxt('./data/ThoraricSurgery3.csv', delimiter=',')"
   ]
  },
  {
   "cell_type": "code",
   "execution_count": 4,
   "id": "46af88df",
   "metadata": {
    "scrolled": false
   },
   "outputs": [
    {
     "data": {
      "text/plain": [
       "array([[ 1.  ,  2.88,  2.16,  1.  ,  0.  ,  0.  ,  0.  ,  1.  ,  1.  ,\n",
       "         3.  ,  0.  ,  0.  ,  0.  ,  1.  ,  0.  , 60.  ],\n",
       "       [ 2.  ,  3.4 ,  1.88,  0.  ,  0.  ,  0.  ,  0.  ,  0.  ,  0.  ,\n",
       "         1.  ,  0.  ,  0.  ,  0.  ,  1.  ,  0.  , 51.  ],\n",
       "       [ 2.  ,  2.76,  2.08,  1.  ,  0.  ,  0.  ,  0.  ,  1.  ,  0.  ,\n",
       "         0.  ,  0.  ,  0.  ,  0.  ,  1.  ,  0.  , 59.  ],\n",
       "       [ 2.  ,  3.68,  3.04,  0.  ,  0.  ,  0.  ,  0.  ,  0.  ,  0.  ,\n",
       "         0.  ,  0.  ,  0.  ,  0.  ,  0.  ,  0.  , 54.  ],\n",
       "       [ 2.  ,  2.44,  0.96,  2.  ,  0.  ,  1.  ,  0.  ,  1.  ,  1.  ,\n",
       "         0.  ,  0.  ,  0.  ,  0.  ,  1.  ,  0.  , 73.  ],\n",
       "       [ 2.  ,  2.48,  1.88,  1.  ,  0.  ,  0.  ,  0.  ,  1.  ,  0.  ,\n",
       "         0.  ,  0.  ,  0.  ,  0.  ,  0.  ,  0.  , 51.  ],\n",
       "       [ 2.  ,  4.36,  3.28,  1.  ,  0.  ,  0.  ,  0.  ,  1.  ,  0.  ,\n",
       "         1.  ,  1.  ,  0.  ,  0.  ,  1.  ,  0.  , 59.  ],\n",
       "       [ 1.  ,  3.19,  2.5 ,  1.  ,  0.  ,  0.  ,  0.  ,  1.  ,  0.  ,\n",
       "         0.  ,  0.  ,  0.  ,  1.  ,  1.  ,  0.  , 66.  ],\n",
       "       [ 2.  ,  3.16,  2.64,  2.  ,  0.  ,  0.  ,  0.  ,  1.  ,  1.  ,\n",
       "         0.  ,  0.  ,  0.  ,  0.  ,  1.  ,  0.  , 68.  ],\n",
       "       [ 2.  ,  2.32,  2.16,  1.  ,  0.  ,  0.  ,  0.  ,  1.  ,  0.  ,\n",
       "         0.  ,  0.  ,  0.  ,  0.  ,  1.  ,  0.  , 54.  ]])"
      ]
     },
     "execution_count": 4,
     "metadata": {},
     "output_type": "execute_result"
    }
   ],
   "source": [
    "data_set[:10, 0:16]"
   ]
  },
  {
   "cell_type": "code",
   "execution_count": 5,
   "id": "820a5b4a",
   "metadata": {},
   "outputs": [],
   "source": [
    "X = data_set[:, 0:16] # 요소가 16개인 데이터\n",
    "y = data_set[:, 16]   # label(X요소의 결과)"
   ]
  },
  {
   "cell_type": "code",
   "execution_count": 7,
   "id": "adbd0075",
   "metadata": {},
   "outputs": [
    {
     "name": "stdout",
     "output_type": "stream",
     "text": [
      "(470, 16)\n",
      "(470,)\n"
     ]
    }
   ],
   "source": [
    "print(X.shape)\n",
    "print(y.shape)"
   ]
  },
  {
   "cell_type": "code",
   "execution_count": 10,
   "id": "df0c686c",
   "metadata": {},
   "outputs": [
    {
     "name": "stdout",
     "output_type": "stream",
     "text": [
      "Model: \"sequential_2\"\n",
      "_________________________________________________________________\n",
      " Layer (type)                Output Shape              Param #   \n",
      "=================================================================\n",
      " dense_3 (Dense)             (None, 30)                510       \n",
      "                                                                 \n",
      " dense_4 (Dense)             (None, 1)                 31        \n",
      "                                                                 \n",
      "=================================================================\n",
      "Total params: 541\n",
      "Trainable params: 541\n",
      "Non-trainable params: 0\n",
      "_________________________________________________________________\n"
     ]
    }
   ],
   "source": [
    "model = Sequential()\n",
    "model.add(Dense(30, input_dim=16, activation='relu'))\n",
    "model.add(Dense(1, activation='sigmoid'))\n",
    "model.summary()"
   ]
  },
  {
   "cell_type": "code",
   "execution_count": 12,
   "id": "282430b8",
   "metadata": {},
   "outputs": [
    {
     "name": "stdout",
     "output_type": "stream",
     "text": [
      "Epoch 1/5\n",
      "30/30 [==============================] - 1s 2ms/step - loss: 0.5744 - accuracy: 0.8340\n",
      "Epoch 2/5\n",
      "30/30 [==============================] - 0s 1ms/step - loss: 0.4410 - accuracy: 0.8468\n",
      "Epoch 3/5\n",
      "30/30 [==============================] - 0s 2ms/step - loss: 0.4369 - accuracy: 0.8511\n",
      "Epoch 4/5\n",
      "30/30 [==============================] - 0s 1ms/step - loss: 0.4325 - accuracy: 0.8511\n",
      "Epoch 5/5\n",
      "30/30 [==============================] - 0s 1ms/step - loss: 0.4378 - accuracy: 0.8489\n"
     ]
    },
    {
     "data": {
      "text/plain": [
       "<keras.callbacks.History at 0x19d1f229820>"
      ]
     },
     "execution_count": 12,
     "metadata": {},
     "output_type": "execute_result"
    }
   ],
   "source": [
    "model.compile(loss='binary_crossentropy', optimizer='adam', metrics=['accuracy'])\n",
    "history = model.fit(X, y, epochs=5, batch_size=16)"
   ]
  },
  {
   "cell_type": "markdown",
   "id": "ef216135",
   "metadata": {},
   "source": [
    "# 최소제곱법으로 단순회귀 분석(Simple linear regression) 모델 생성"
   ]
  },
  {
   "cell_type": "code",
   "execution_count": 27,
   "id": "13767f88",
   "metadata": {},
   "outputs": [
    {
     "name": "stdout",
     "output_type": "stream",
     "text": [
      "X의 평균값 : 5.0, y의 평균값 : 90.5\n"
     ]
    }
   ],
   "source": [
    "import numpy as np\n",
    "\n",
    "X = np.array([2, 4, 6, 8])\n",
    "y = np.array([81, 93, 91, 97])\n",
    "\n",
    "X_mean = np.mean(X)\n",
    "y_mean = np.mean(y)\n",
    "\n",
    "print(f'X의 평균값 : {X_mean}, y의 평균값 : {y_mean}')"
   ]
  },
  {
   "cell_type": "markdown",
   "id": "3ab56c8e",
   "metadata": {},
   "source": [
    "기울기 공식\n",
    "$$기울기(a) = \\frac{\\sum(x-x의평균)(y-y의평균)}{\\sum(x-x의평균)^2}$$"
   ]
  },
  {
   "cell_type": "code",
   "execution_count": 28,
   "id": "b5533213",
   "metadata": {},
   "outputs": [],
   "source": [
    "deviser = sum([(i - X_mean)**2 for i in X])"
   ]
  },
  {
   "cell_type": "code",
   "execution_count": 29,
   "id": "395dc8f6",
   "metadata": {},
   "outputs": [
    {
     "name": "stdout",
     "output_type": "stream",
     "text": [
      "기울기 :  2.3\n"
     ]
    }
   ],
   "source": [
    "top = 0\n",
    "for i in range(len(X)):\n",
    "    top += (X[i] - X_mean) * (y[i] - y_mean)\n",
    "    \n",
    "a = top / deviser\n",
    "print('기울기 : ', a)"
   ]
  },
  {
   "cell_type": "markdown",
   "id": "c680582d",
   "metadata": {},
   "source": [
    "$$절편(b) = y\\_mean - 기울기 \\times X\\_mean$$"
   ]
  },
  {
   "cell_type": "code",
   "execution_count": 30,
   "id": "d17e9547",
   "metadata": {},
   "outputs": [
    {
     "name": "stdout",
     "output_type": "stream",
     "text": [
      "절편 :  79.0\n"
     ]
    }
   ],
   "source": [
    "b = y_mean - a * X_mean\n",
    "print('절편 : ', b)"
   ]
  },
  {
   "cell_type": "code",
   "execution_count": 31,
   "id": "1b5bb328",
   "metadata": {},
   "outputs": [
    {
     "name": "stdout",
     "output_type": "stream",
     "text": [
      "[83.6, 88.2, 92.8, 97.4]\n"
     ]
    }
   ],
   "source": [
    "pred_y = [a * i + b for i in X] # 예측값\n",
    "print(pred_y)"
   ]
  },
  {
   "cell_type": "code",
   "execution_count": 37,
   "id": "81acf07d",
   "metadata": {},
   "outputs": [
    {
     "data": {
      "image/png": "[encoded data removed]",
      "text/plain": [
       "<Figure size 640x480 with 1 Axes>"
      ]
     },
     "metadata": {},
     "output_type": "display_data"
    }
   ],
   "source": [
    "import matplotlib.pyplot as plt\n",
    "\n",
    "plt.plot(X, pred_y, 'o', color='blue', label='predict value')\n",
    "plt.plot(X, y, 'o', color='red', label='actual value')\n",
    "plt.legend()\n",
    "plt.show()"
   ]
  },
  {
   "cell_type": "markdown",
   "id": "4ff1fd9d",
   "metadata": {},
   "source": [
    "## 평균 제곱 오차(MSE)\n",
    "$$MSE = \\frac{1}{n}\\sum(y_i - \\hat{y})^2 : \\hat{y} = ax_i + b \\to 예측값$$"
   ]
  },
  {
   "cell_type": "code",
   "execution_count": 34,
   "id": "e3e78d49",
   "metadata": {},
   "outputs": [
    {
     "name": "stdout",
     "output_type": "stream",
     "text": [
      "X값 : 2, 실제값 : 81, 예측값 : 82\n",
      "X값 : 4, 실제값 : 93, 예측값 : 88\n",
      "X값 : 6, 실제값 : 91, 예측값 : 94\n",
      "X값 : 8, 실제값 : 97, 예측값 : 100\n",
      "평균제곱오차 : 11.0\n"
     ]
    }
   ],
   "source": [
    "# a, b의 초기값을 설정 하고 계산\n",
    "fake_a = 3\n",
    "fake_b = 76\n",
    "\n",
    "# 공부시간과 성적 생성\n",
    "X = np.array([2, 4, 6, 8])\n",
    "y = np.array([81, 93, 91, 97])\n",
    "\n",
    "def predict(x):\n",
    "    return x * fake_a + fake_b\n",
    "\n",
    "prid_resut = [predict(i) for i in X] # 예측값 생성\n",
    "\n",
    "# 평균제곱 오차값\n",
    "mse_result = sum([(y[i] - prid_resut[i])**2 for i in range(len(y))]) / len(y)\n",
    "for x_value, y_vvalue, y_predict in zip(X, y, prid_resut):\n",
    "    print(\"X값 : {}, 실제값 : {}, 예측값 : {}\".format(x_value, y_vvalue, y_predict))\n",
    "print('평균제곱오차 :', mse_result)"
   ]
  },
  {
   "cell_type": "markdown",
   "id": "f51cd5c9",
   "metadata": {},
   "source": [
    "## 경사하강법\n",
    "$$MSE = \\frac{1}{n}\\sum(y_i - (ax_i + b))^2$$\n",
    "$$a로편미분한 결과 = \\frac{2}{n}\\sum-x_i(y_i - (ax_i + b))$$\n",
    "$$b로편미분한 결과 = \\frac{2}{n}\\sum-(y_i - (ax_i + b))$$"
   ]
  },
  {
   "cell_type": "code",
   "execution_count": 36,
   "id": "9fac8dbb",
   "metadata": {},
   "outputs": [
    {
     "name": "stdout",
     "output_type": "stream",
     "text": [
      "epoch : 0,  기울기 : 27.84,  절편 : 5.43\n",
      "epoch : 100,  기울기 : 7.073858435872394,  절편 : 50.51166161138297\n",
      "epoch : 200,  기울기 : 4.095999380762421,  절편 : 68.28224379060177\n",
      "epoch : 300,  기울기 : 2.9756829100119027,  절편 : 74.96781336233505\n",
      "epoch : 400,  기울기 : 2.5542024233262106,  절편 : 77.48302865233052\n",
      "epoch : 500,  기울기 : 2.3956349066513707,  절편 : 78.42929177728175\n",
      "epoch : 600,  기울기 : 2.3359793398132864,  절편 : 78.78529068727728\n",
      "epoch : 700,  기울기 : 2.313535987420573,  절편 : 78.91922301600925\n",
      "epoch : 800,  기울기 : 2.3050924490666174,  절편 : 78.96961044185792\n",
      "epoch : 900,  기울기 : 2.3019158585694823,  절편 : 78.98856697541248\n",
      "epoch : 1000,  기울기 : 2.3007207758016315,  절편 : 78.99569871827002\n",
      "epoch : 1100,  기울기 : 2.300271167070735,  절편 : 78.99838179089187\n",
      "epoch : 1200,  기울기 : 2.3001020172709508,  절편 : 78.9993912045567\n",
      "epoch : 1300,  기울기 : 2.300038380484562,  절편 : 78.99977096168232\n",
      "epoch : 1400,  기울기 : 2.3000144393354365,  절편 : 78.9999138322214\n",
      "epoch : 1500,  기울기 : 2.3000054323026444,  절편 : 78.99996758234106\n",
      "epoch : 1600,  기울기 : 2.300002043716771,  절편 : 78.99998780397235\n",
      "epoch : 1700,  기울기 : 2.3000007688780433,  절편 : 78.99999541166466\n",
      "epoch : 1800,  기울기 : 2.300000289263884,  절편 : 78.99999827379686\n",
      "epoch : 1900,  기울기 : 2.3000001088255795,  절편 : 78.9999993505755\n",
      "epoch : 2000,  기울기 : 2.3000000409418653,  절편 : 78.99999975567644\n"
     ]
    },
    {
     "data": {
      "image/png": "[encoded data removed]",
      "text/plain": [
       "<Figure size 640x480 with 1 Axes>"
      ]
     },
     "metadata": {},
     "output_type": "display_data"
    }
   ],
   "source": [
    "X = np.array([2, 4, 6, 8])\n",
    "y = np.array([81, 93, 91, 97])\n",
    "\n",
    "a = 0; b = 0  # 기울기 절편을 0으로 초기화\n",
    "lr = 0.03     # 학습률 설정\n",
    "epoch = 2001  # 2001회 반복\n",
    "n = len(X)\n",
    "\n",
    "for i in range(epoch):\n",
    "    y_pred = a * X + b # 예측값 구함\n",
    "    err = y - y_pred   # 실제값과 예측값 차이를 구함\n",
    "    \n",
    "    a_diff = (2/n) * sum(-X * err)\n",
    "    b_diff = (2/n) * sum(-err)\n",
    "    a = a - lr * a_diff # 다음 적용할 a 값 수정\n",
    "    b = b - lr * b_diff # 다음 적용할 b 값 수정\n",
    "    \n",
    "    if i%100 == 0:\n",
    "        print(\"epoch : {},  기울기 : {},  절편 : {}\".format(i, a, b))\n",
    "        \n",
    "# 최종 a, b를 적용하여 예측값구함\n",
    "y_pred = a * X + b\n",
    "\n",
    "plt.scatter(X, y)\n",
    "plt.scatter(X, y_pred, color='red')\n",
    "plt.show()"
   ]
  },
  {
   "cell_type": "code",
   "execution_count": null,
   "id": "eb7f054f",
   "metadata": {},
   "outputs": [],
   "source": []
  }
 ],
 "metadata": {
  "kernelspec": {
   "display_name": "py3.8",
   "language": "python",
   "name": "py3.8"
  },
  "language_info": {
   "codemirror_mode": {
    "name": "ipython",
    "version": 3
   },
   "file_extension": ".py",
   "mimetype": "text/x-python",
   "name": "python",
   "nbconvert_exporter": "python",
   "pygments_lexer": "ipython3",
   "version": "3.8.16"
  }
 },
 "nbformat": 4,
 "nbformat_minor": 5
}
