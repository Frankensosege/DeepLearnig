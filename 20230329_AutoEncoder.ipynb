{
 "cells": [
  {
   "cell_type": "code",
   "execution_count": 5,
   "id": "6bcac69c",
   "metadata": {},
   "outputs": [],
   "source": [
    "# 배치 정규화, 이미지 확대, DCGAN\n",
    "from tensorflow.keras.models import Sequential, Model\n",
    "from tensorflow.keras.layers import Dense, Reshape, Input, Flatten, Dropout, UpSampling2D, Conv2D, MaxPooling2D\n",
    "import numpy as np\n",
    "import matplotlib.pyplot as plt"
   ]
  },
  {
   "cell_type": "code",
   "execution_count": 2,
   "id": "d62ea4f6",
   "metadata": {},
   "outputs": [],
   "source": [
    "from tensorflow.keras.datasets import mnist"
   ]
  },
  {
   "cell_type": "code",
   "execution_count": 3,
   "id": "1756c843",
   "metadata": {},
   "outputs": [],
   "source": [
    "(X_train, _),(X_test, _) = mnist.load_data()\n",
    "\n",
    "X_train = X_train.reshape(X_train.shape[0], X_train.shape[1], X_train.shape[2], 1).astype('float64') / 255\n",
    "X_test = X_test.reshape(X_test.shape[0], X_test.shape[1], X_test.shape[2], 1).astype('float64') / 255"
   ]
  },
  {
   "cell_type": "code",
   "execution_count": 7,
   "id": "c087e7e8",
   "metadata": {},
   "outputs": [
    {
     "name": "stdout",
     "output_type": "stream",
     "text": [
      "Model: \"sequential_2\"\n",
      "_________________________________________________________________\n",
      " Layer (type)                Output Shape              Param #   \n",
      "=================================================================\n",
      " conv2d_8 (Conv2D)           (None, 28, 28, 16)        160       \n",
      "                                                                 \n",
      " max_pooling2d_2 (MaxPooling  (None, 14, 14, 16)       0         \n",
      " 2D)                                                             \n",
      "                                                                 \n",
      " conv2d_9 (Conv2D)           (None, 14, 14, 8)         1160      \n",
      "                                                                 \n",
      " max_pooling2d_3 (MaxPooling  (None, 7, 7, 8)          0         \n",
      " 2D)                                                             \n",
      "                                                                 \n",
      " conv2d_10 (Conv2D)          (None, 4, 4, 8)           584       \n",
      "                                                                 \n",
      " conv2d_11 (Conv2D)          (None, 4, 4, 8)           584       \n",
      "                                                                 \n",
      " up_sampling2d_3 (UpSampling  (None, 8, 8, 8)          0         \n",
      " 2D)                                                             \n",
      "                                                                 \n",
      " conv2d_12 (Conv2D)          (None, 8, 8, 8)           584       \n",
      "                                                                 \n",
      " up_sampling2d_4 (UpSampling  (None, 16, 16, 8)        0         \n",
      " 2D)                                                             \n",
      "                                                                 \n",
      " conv2d_13 (Conv2D)          (None, 14, 14, 16)        1168      \n",
      "                                                                 \n",
      " up_sampling2d_5 (UpSampling  (None, 28, 28, 16)       0         \n",
      " 2D)                                                             \n",
      "                                                                 \n",
      " conv2d_14 (Conv2D)          (None, 28, 28, 1)         145       \n",
      "                                                                 \n",
      "=================================================================\n",
      "Total params: 4,385\n",
      "Trainable params: 4,385\n",
      "Non-trainable params: 0\n",
      "_________________________________________________________________\n"
     ]
    }
   ],
   "source": [
    "# 생성자 모델\n",
    "autoencoder = Sequential()\n",
    "\n",
    "# 인코딩\n",
    "autoencoder.add(Conv2D(16, kernel_size=3, padding='same', input_shape=(28, 28, 1), activation='relu'))\n",
    "autoencoder.add(MaxPooling2D(pool_size=2, padding='same'))\n",
    "autoencoder.add(Conv2D(8, kernel_size=3, padding='same', activation='relu'))\n",
    "autoencoder.add(MaxPooling2D(pool_size=2, padding='same'))\n",
    "autoencoder.add(Conv2D(8, kernel_size=3, strides= 2, padding='same', activation='relu'))\n",
    "\n",
    "# 디코딩\n",
    "autoencoder.add(Conv2D(8, kernel_size=3, padding='same', activation='relu'))\n",
    "autoencoder.add(UpSampling2D())\n",
    "autoencoder.add(Conv2D(8, kernel_size=3, padding='same', activation='relu'))\n",
    "autoencoder.add(UpSampling2D())\n",
    "autoencoder.add(Conv2D(16, kernel_size=3, activation='relu'))\n",
    "autoencoder.add(UpSampling2D())\n",
    "autoencoder.add(Conv2D(1, kernel_size=3, padding='same', activation='sigmoid'))\n",
    "\n",
    "autoencoder.summary()"
   ]
  },
  {
   "cell_type": "code",
   "execution_count": 8,
   "id": "591e2ef3",
   "metadata": {},
   "outputs": [
    {
     "name": "stdout",
     "output_type": "stream",
     "text": [
      "Epoch 1/50\n",
      "469/469 [==============================] - 53s 110ms/step - loss: 0.2116 - val_loss: 0.1438\n",
      "Epoch 2/50\n",
      "469/469 [==============================] - 52s 111ms/step - loss: 0.1338 - val_loss: 0.1239\n",
      "Epoch 3/50\n",
      "469/469 [==============================] - 51s 110ms/step - loss: 0.1195 - val_loss: 0.1141\n",
      "Epoch 4/50\n",
      "469/469 [==============================] - 51s 108ms/step - loss: 0.1116 - val_loss: 0.1074\n",
      "Epoch 5/50\n",
      "469/469 [==============================] - 51s 108ms/step - loss: 0.1066 - val_loss: 0.1035\n",
      "Epoch 6/50\n",
      "469/469 [==============================] - 50s 107ms/step - loss: 0.1033 - val_loss: 0.1006\n",
      "Epoch 7/50\n",
      "469/469 [==============================] - 51s 108ms/step - loss: 0.1008 - val_loss: 0.0984\n",
      "Epoch 8/50\n",
      "469/469 [==============================] - 51s 109ms/step - loss: 0.0988 - val_loss: 0.0966\n",
      "Epoch 9/50\n",
      "469/469 [==============================] - 51s 109ms/step - loss: 0.0973 - val_loss: 0.0954\n",
      "Epoch 10/50\n",
      "469/469 [==============================] - 51s 108ms/step - loss: 0.0959 - val_loss: 0.0940\n",
      "Epoch 11/50\n",
      "469/469 [==============================] - 50s 108ms/step - loss: 0.0946 - val_loss: 0.0929\n",
      "Epoch 12/50\n",
      "469/469 [==============================] - 50s 106ms/step - loss: 0.0936 - val_loss: 0.0920\n",
      "Epoch 13/50\n",
      "469/469 [==============================] - 51s 108ms/step - loss: 0.0927 - val_loss: 0.0911\n",
      "Epoch 14/50\n",
      "469/469 [==============================] - 51s 109ms/step - loss: 0.0919 - val_loss: 0.0905\n",
      "Epoch 15/50\n",
      "469/469 [==============================] - 51s 109ms/step - loss: 0.0912 - val_loss: 0.0896\n",
      "Epoch 16/50\n",
      "469/469 [==============================] - 51s 109ms/step - loss: 0.0906 - val_loss: 0.0894\n",
      "Epoch 17/50\n",
      "469/469 [==============================] - 52s 112ms/step - loss: 0.0901 - val_loss: 0.0889\n",
      "Epoch 18/50\n",
      "469/469 [==============================] - 51s 109ms/step - loss: 0.0896 - val_loss: 0.0883\n",
      "Epoch 19/50\n",
      "469/469 [==============================] - 52s 111ms/step - loss: 0.0891 - val_loss: 0.0881\n",
      "Epoch 20/50\n",
      "469/469 [==============================] - 52s 110ms/step - loss: 0.0888 - val_loss: 0.0874\n",
      "Epoch 21/50\n",
      "469/469 [==============================] - 52s 110ms/step - loss: 0.0884 - val_loss: 0.0872\n",
      "Epoch 22/50\n",
      "469/469 [==============================] - 54s 115ms/step - loss: 0.0881 - val_loss: 0.0872\n",
      "Epoch 23/50\n",
      "469/469 [==============================] - 53s 112ms/step - loss: 0.0878 - val_loss: 0.0866\n",
      "Epoch 24/50\n",
      "469/469 [==============================] - 53s 113ms/step - loss: 0.0875 - val_loss: 0.0868\n",
      "Epoch 25/50\n",
      "469/469 [==============================] - 53s 113ms/step - loss: 0.0872 - val_loss: 0.0859\n",
      "Epoch 26/50\n",
      "469/469 [==============================] - 53s 114ms/step - loss: 0.0869 - val_loss: 0.0857\n",
      "Epoch 27/50\n",
      "469/469 [==============================] - 52s 111ms/step - loss: 0.0866 - val_loss: 0.0853\n",
      "Epoch 28/50\n",
      "469/469 [==============================] - 50s 107ms/step - loss: 0.0863 - val_loss: 0.0853\n",
      "Epoch 29/50\n",
      "469/469 [==============================] - 49s 105ms/step - loss: 0.0861 - val_loss: 0.0849\n",
      "Epoch 30/50\n",
      "469/469 [==============================] - 50s 106ms/step - loss: 0.0859 - val_loss: 0.0845\n",
      "Epoch 31/50\n",
      "469/469 [==============================] - 50s 107ms/step - loss: 0.0856 - val_loss: 0.0845\n",
      "Epoch 32/50\n",
      "469/469 [==============================] - 50s 106ms/step - loss: 0.0855 - val_loss: 0.0842\n",
      "Epoch 33/50\n",
      "469/469 [==============================] - 51s 108ms/step - loss: 0.0852 - val_loss: 0.0845\n",
      "Epoch 34/50\n",
      "469/469 [==============================] - 50s 107ms/step - loss: 0.0850 - val_loss: 0.0838\n",
      "Epoch 35/50\n",
      "469/469 [==============================] - 50s 108ms/step - loss: 0.0848 - val_loss: 0.0836\n",
      "Epoch 36/50\n",
      "469/469 [==============================] - 50s 106ms/step - loss: 0.0846 - val_loss: 0.0834\n",
      "Epoch 37/50\n",
      "469/469 [==============================] - 49s 105ms/step - loss: 0.0845 - val_loss: 0.0834\n",
      "Epoch 38/50\n",
      "469/469 [==============================] - 50s 106ms/step - loss: 0.0843 - val_loss: 0.0830\n",
      "Epoch 39/50\n",
      "469/469 [==============================] - 49s 105ms/step - loss: 0.0841 - val_loss: 0.0829\n",
      "Epoch 40/50\n",
      "469/469 [==============================] - 50s 106ms/step - loss: 0.0839 - val_loss: 0.0827\n",
      "Epoch 41/50\n",
      "469/469 [==============================] - 50s 106ms/step - loss: 0.0838 - val_loss: 0.0827\n",
      "Epoch 42/50\n",
      "469/469 [==============================] - 50s 106ms/step - loss: 0.0837 - val_loss: 0.0830\n",
      "Epoch 43/50\n",
      "469/469 [==============================] - 49s 105ms/step - loss: 0.0835 - val_loss: 0.0836\n",
      "Epoch 44/50\n",
      "469/469 [==============================] - 50s 106ms/step - loss: 0.0834 - val_loss: 0.0825\n",
      "Epoch 45/50\n",
      "469/469 [==============================] - 50s 106ms/step - loss: 0.0832 - val_loss: 0.0821\n",
      "Epoch 46/50\n",
      "469/469 [==============================] - 49s 105ms/step - loss: 0.0831 - val_loss: 0.0818\n",
      "Epoch 47/50\n",
      "469/469 [==============================] - 50s 106ms/step - loss: 0.0830 - val_loss: 0.0819\n",
      "Epoch 48/50\n",
      "469/469 [==============================] - 51s 109ms/step - loss: 0.0829 - val_loss: 0.0818\n",
      "Epoch 49/50\n",
      "469/469 [==============================] - 50s 108ms/step - loss: 0.0827 - val_loss: 0.0817\n",
      "Epoch 50/50\n",
      "469/469 [==============================] - 50s 107ms/step - loss: 0.0826 - val_loss: 0.0814\n"
     ]
    },
    {
     "data": {
      "text/plain": [
       "<keras.callbacks.History at 0x1e4876dd880>"
      ]
     },
     "execution_count": 8,
     "metadata": {},
     "output_type": "execute_result"
    }
   ],
   "source": [
    "autoencoder.compile(optimizer='adam', loss='binary_crossentropy')\n",
    "autoencoder.fit(X_train, X_train, epochs=50, batch_size=128, validation_data=(X_test, X_test))"
   ]
  },
  {
   "cell_type": "code",
   "execution_count": 10,
   "id": "7a578775",
   "metadata": {},
   "outputs": [
    {
     "name": "stdout",
     "output_type": "stream",
     "text": [
      "313/313 [==============================] - 4s 14ms/step\n"
     ]
    }
   ],
   "source": [
    "random_test = np.random.randint(X_test.shape[0], size=5)  # test index를 입의로 5개 선정\n",
    "ae_imgs = autoencoder.predict(X_test) # 오토인덱스로 이미지 특성을 살려 새로운 이미지 생성"
   ]
  },
  {
   "cell_type": "code",
   "execution_count": 11,
   "id": "64f6d4c9",
   "metadata": {},
   "outputs": [
    {
     "data": {
      "image/png": "[encoded data removed]",
      "text/plain": [
       "<Figure size 700x200 with 10 Axes>"
      ]
     },
     "metadata": {},
     "output_type": "display_data"
    }
   ],
   "source": [
    "plt.figure(figsize=(7, 2))\n",
    "for i, image_idx in enumerate(random_test):\n",
    "    ax = plt.subplot(2, 7, i+1)\n",
    "    plt.imshow(X_test[image_idx].reshape(28, 28))\n",
    "    plt.axis('off')\n",
    "    \n",
    "    ax = plt.subplot(2, 7, 7+i+1)\n",
    "    plt.imshow(ae_imgs[image_idx].reshape(28, 28))\n",
    "    plt.axis('off')\n",
    "plt.show()"
   ]
  },
  {
   "cell_type": "code",
   "execution_count": null,
   "id": "4f180ff9",
   "metadata": {},
   "outputs": [],
   "source": []
  }
 ],
 "metadata": {
  "kernelspec": {
   "display_name": "py3.8",
   "language": "python",
   "name": "py3.8"
  },
  "language_info": {
   "codemirror_mode": {
    "name": "ipython",
    "version": 3
   },
   "file_extension": ".py",
   "mimetype": "text/x-python",
   "name": "python",
   "nbconvert_exporter": "python",
   "pygments_lexer": "ipython3",
   "version": "3.8.16"
  }
 },
 "nbformat": 4,
 "nbformat_minor": 5
}
