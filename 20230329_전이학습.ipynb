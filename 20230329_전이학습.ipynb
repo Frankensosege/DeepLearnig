{
 "cells": [
  {
   "cell_type": "markdown",
   "id": "2decb5d4",
   "metadata": {},
   "source": [
    "## 1. 소규모 데이터셋으로 만드는 강력한 학습 모델"
   ]
  },
  {
   "cell_type": "code",
   "execution_count": 3,
   "id": "60154b70",
   "metadata": {},
   "outputs": [],
   "source": [
    "from tensorflow.keras.models import Sequential\n",
    "from tensorflow.keras.layers import Dense, Conv2D, MaxPooling2D, Activation, Flatten, Dropout\n",
    "from tensorflow.keras.preprocessing.image import ImageDataGenerator\n",
    "from tensorflow.keras.callbacks import EarlyStopping\n",
    "from tensorflow.keras import optimizers\n",
    "\n",
    "import numpy as np\n",
    "import matplotlib.pyplot as plt"
   ]
  },
  {
   "cell_type": "code",
   "execution_count": 10,
   "id": "31133943",
   "metadata": {},
   "outputs": [
    {
     "name": "stdout",
     "output_type": "stream",
     "text": [
      "Found 160 images belonging to 2 classes.\n",
      "Found 120 images belonging to 2 classes.\n"
     ]
    }
   ],
   "source": [
    "# 기존 이미지  갯수 늘리기:전처리\n",
    "train_data_gen = ImageDataGenerator(rescale=1./255,            # 정규화\n",
    "                                   horizontal_flip=True,       # 수평 뒤집기\n",
    "                                   width_shift_range=0.1,       # 수평 이동\n",
    "                                   height_shift_range=0.1,      # 수직이동\n",
    "                                   fill_mode='nearest')\n",
    "train_generator = train_data_gen.flow_from_directory('./data/train', target_size=(150, 150), batch_size=5, class_mode='binary')\n",
    "\n",
    "test_data_gen = ImageDataGenerator(rescale=1./255)  # 테스트 데이터는 정규화만\n",
    "test_generator = test_data_gen.flow_from_directory('./data/test', target_size=(150, 150), batch_size=5, class_mode='binary')"
   ]
  },
  {
   "cell_type": "code",
   "execution_count": 7,
   "id": "d4a3c10e",
   "metadata": {},
   "outputs": [
    {
     "name": "stdout",
     "output_type": "stream",
     "text": [
      "Model: \"sequential_2\"\n",
      "_________________________________________________________________\n",
      " Layer (type)                Output Shape              Param #   \n",
      "=================================================================\n",
      " conv2d_4 (Conv2D)           (None, 148, 148, 32)      896       \n",
      "                                                                 \n",
      " max_pooling2d_2 (MaxPooling  (None, 74, 74, 32)       0         \n",
      " 2D)                                                             \n",
      "                                                                 \n",
      " conv2d_5 (Conv2D)           (None, 72, 72, 32)        9248      \n",
      "                                                                 \n",
      " max_pooling2d_3 (MaxPooling  (None, 36, 36, 32)       0         \n",
      " 2D)                                                             \n",
      "                                                                 \n",
      " activation_1 (Activation)   (None, 36, 36, 32)        0         \n",
      "                                                                 \n",
      " conv2d_6 (Conv2D)           (None, 34, 34, 64)        18496     \n",
      "                                                                 \n",
      " max_pooling2d_4 (MaxPooling  (None, 17, 17, 64)       0         \n",
      " 2D)                                                             \n",
      "                                                                 \n",
      " flatten (Flatten)           (None, 18496)             0         \n",
      "                                                                 \n",
      " dense (Dense)               (None, 64)                1183808   \n",
      "                                                                 \n",
      " dropout (Dropout)           (None, 64)                0         \n",
      "                                                                 \n",
      " dense_1 (Dense)             (None, 1)                 65        \n",
      "                                                                 \n",
      "=================================================================\n",
      "Total params: 1,212,513\n",
      "Trainable params: 1,212,513\n",
      "Non-trainable params: 0\n",
      "_________________________________________________________________\n"
     ]
    }
   ],
   "source": [
    "model = Sequential()\n",
    "model.add(Conv2D(32, kernel_size=3, input_shape=(150, 150, 3), activation='relu'))\n",
    "model.add(MaxPooling2D(pool_size=(2,2)))\n",
    "\n",
    "model.add(Conv2D(32, (3, 3)))\n",
    "model.add(MaxPooling2D(pool_size=(2,2)))\n",
    "model.add(Activation('relu'))\n",
    "\n",
    "model.add(Conv2D(64, (3, 3), activation='relu'))\n",
    "model.add(MaxPooling2D(pool_size=(2,2)))\n",
    "model.add(Flatten())\n",
    "\n",
    "model.add(Dense(64, activation='relu'))\n",
    "model.add(Dropout(0.5))\n",
    "model.add(Dense(1, activation='sigmoid'))\n",
    "model.summary()\n"
   ]
  },
  {
   "cell_type": "code",
   "execution_count": 11,
   "id": "76754697",
   "metadata": {},
   "outputs": [
    {
     "name": "stdout",
     "output_type": "stream",
     "text": [
      "Epoch 1/200\n",
      "32/32 [==============================] - 7s 176ms/step - loss: 0.7029 - accuracy: 0.4437 - val_loss: 0.6798 - val_accuracy: 0.5400\n",
      "Epoch 2/200\n",
      "32/32 [==============================] - 4s 129ms/step - loss: 0.6986 - accuracy: 0.5063 - val_loss: 0.6862 - val_accuracy: 0.7600\n",
      "Epoch 3/200\n",
      "32/32 [==============================] - 4s 126ms/step - loss: 0.6898 - accuracy: 0.5250 - val_loss: 0.6882 - val_accuracy: 0.5800\n",
      "Epoch 4/200\n",
      "32/32 [==============================] - 4s 122ms/step - loss: 0.6894 - accuracy: 0.5188 - val_loss: 0.6817 - val_accuracy: 0.5400\n",
      "Epoch 5/200\n",
      "32/32 [==============================] - 4s 119ms/step - loss: 0.6837 - accuracy: 0.5875 - val_loss: 0.6544 - val_accuracy: 0.5800\n",
      "Epoch 6/200\n",
      "32/32 [==============================] - 4s 123ms/step - loss: 0.6840 - accuracy: 0.5875 - val_loss: 0.6729 - val_accuracy: 0.5600\n",
      "Epoch 7/200\n",
      "32/32 [==============================] - 4s 125ms/step - loss: 0.6553 - accuracy: 0.6438 - val_loss: 0.6631 - val_accuracy: 0.5200\n",
      "Epoch 8/200\n",
      "32/32 [==============================] - 4s 120ms/step - loss: 0.6396 - accuracy: 0.6875 - val_loss: 0.5863 - val_accuracy: 0.8000\n",
      "Epoch 9/200\n",
      "32/32 [==============================] - 4s 125ms/step - loss: 0.5794 - accuracy: 0.7500 - val_loss: 0.4958 - val_accuracy: 0.8000\n",
      "Epoch 10/200\n",
      "32/32 [==============================] - 4s 119ms/step - loss: 0.5317 - accuracy: 0.7688 - val_loss: 0.4710 - val_accuracy: 0.9600\n",
      "Epoch 11/200\n",
      "32/32 [==============================] - 4s 124ms/step - loss: 0.4865 - accuracy: 0.8000 - val_loss: 0.4238 - val_accuracy: 0.8000\n",
      "Epoch 12/200\n",
      "32/32 [==============================] - 4s 122ms/step - loss: 0.4338 - accuracy: 0.8000 - val_loss: 0.3125 - val_accuracy: 0.8600\n",
      "Epoch 13/200\n",
      "32/32 [==============================] - 4s 120ms/step - loss: 0.3994 - accuracy: 0.8938 - val_loss: 0.3224 - val_accuracy: 0.9200\n",
      "Epoch 14/200\n",
      "32/32 [==============================] - 4s 120ms/step - loss: 0.3220 - accuracy: 0.8875 - val_loss: 0.1984 - val_accuracy: 0.9000\n",
      "Epoch 15/200\n",
      "32/32 [==============================] - 4s 124ms/step - loss: 0.2367 - accuracy: 0.9563 - val_loss: 0.1696 - val_accuracy: 0.9400\n",
      "Epoch 16/200\n",
      "32/32 [==============================] - 4s 122ms/step - loss: 0.1873 - accuracy: 0.9312 - val_loss: 0.1642 - val_accuracy: 0.9400\n",
      "Epoch 17/200\n",
      "32/32 [==============================] - 4s 121ms/step - loss: 0.2799 - accuracy: 0.9000 - val_loss: 0.1165 - val_accuracy: 0.9800\n",
      "Epoch 18/200\n",
      "32/32 [==============================] - 4s 126ms/step - loss: 0.2124 - accuracy: 0.9500 - val_loss: 0.1533 - val_accuracy: 0.9800\n",
      "Epoch 19/200\n",
      "32/32 [==============================] - 4s 124ms/step - loss: 0.1636 - accuracy: 0.9438 - val_loss: 0.0645 - val_accuracy: 1.0000\n",
      "Epoch 20/200\n",
      "32/32 [==============================] - 4s 121ms/step - loss: 0.1554 - accuracy: 0.9500 - val_loss: 0.1143 - val_accuracy: 0.9600\n",
      "Epoch 21/200\n",
      "32/32 [==============================] - 4s 124ms/step - loss: 0.1575 - accuracy: 0.9500 - val_loss: 0.1641 - val_accuracy: 0.9200\n",
      "Epoch 22/200\n",
      "32/32 [==============================] - 4s 123ms/step - loss: 0.1501 - accuracy: 0.9563 - val_loss: 0.0622 - val_accuracy: 1.0000\n",
      "Epoch 23/200\n",
      "32/32 [==============================] - 4s 120ms/step - loss: 0.1187 - accuracy: 0.9688 - val_loss: 0.0780 - val_accuracy: 0.9800\n",
      "Epoch 24/200\n",
      "32/32 [==============================] - 4s 123ms/step - loss: 0.1304 - accuracy: 0.9500 - val_loss: 0.0971 - val_accuracy: 0.9800\n",
      "Epoch 25/200\n",
      "32/32 [==============================] - 4s 126ms/step - loss: 0.1469 - accuracy: 0.9438 - val_loss: 0.1147 - val_accuracy: 0.9600\n",
      "Epoch 26/200\n",
      "32/32 [==============================] - 4s 125ms/step - loss: 0.1624 - accuracy: 0.9625 - val_loss: 0.0795 - val_accuracy: 0.9800\n",
      "Epoch 27/200\n",
      "32/32 [==============================] - 4s 120ms/step - loss: 0.1004 - accuracy: 0.9812 - val_loss: 0.1259 - val_accuracy: 0.9400\n"
     ]
    }
   ],
   "source": [
    "model.compile(loss='binary_crossentropy', optimizer=optimizers.Adam(learning_rate=0.0002), metrics=['accuracy'])\n",
    "\n",
    "erary_stop = EarlyStopping(patience=5)\n",
    "\n",
    "history = model.fit(train_generator, epochs=200, validation_data=test_generator, validation_steps=10, callbacks=[erary_stop])"
   ]
  },
  {
   "cell_type": "code",
   "execution_count": 12,
   "id": "efcec2e4",
   "metadata": {},
   "outputs": [
    {
     "data": {
      "image/png": "[encoded data removed]",
      "text/plain": [
       "<Figure size 640x480 with 1 Axes>"
      ]
     },
     "metadata": {},
     "output_type": "display_data"
    }
   ],
   "source": [
    "y_vloss = history.history['val_loss']\n",
    "y_loss = history.history['loss']\n",
    "x_num = np.arange(len(y_vloss))\n",
    "\n",
    "plt.plot(x_num, y_vloss, marker='.', c='red', label='val_loss')\n",
    "plt.plot(x_num, y_loss, marker='.', c='blue', label='loss')\n",
    "plt.xlabel('Epoch')\n",
    "plt.ylabel('loss')\n",
    "plt.legend(loc='best')\n",
    "plt.show()"
   ]
  },
  {
   "cell_type": "code",
   "execution_count": null,
   "id": "a2673a96",
   "metadata": {},
   "outputs": [],
   "source": []
  }
 ],
 "metadata": {
  "kernelspec": {
   "display_name": "py3.8",
   "language": "python",
   "name": "py3.8"
  },
  "language_info": {
   "codemirror_mode": {
    "name": "ipython",
    "version": 3
   },
   "file_extension": ".py",
   "mimetype": "text/x-python",
   "name": "python",
   "nbconvert_exporter": "python",
   "pygments_lexer": "ipython3",
   "version": "3.8.16"
  }
 },
 "nbformat": 4,
 "nbformat_minor": 5
}
