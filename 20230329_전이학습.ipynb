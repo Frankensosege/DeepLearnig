{
 "cells": [
  {
   "cell_type": "markdown",
   "id": "2decb5d4",
   "metadata": {},
   "source": [
    "## 1. 소규모 데이터셋으로 만드는 강력한 학습 모델"
   ]
  },
  {
   "cell_type": "code",
   "execution_count": 1,
   "id": "60154b70",
   "metadata": {},
   "outputs": [],
   "source": [
    "from tensorflow.keras.models import Sequential\n",
    "from tensorflow.keras.layers import Dense, Conv2D, MaxPooling2D, Activation, Flatten, Dropout\n",
    "from tensorflow.keras.preprocessing.image import ImageDataGenerator\n",
    "from tensorflow.keras.callbacks import EarlyStopping\n",
    "\n",
    "import numpy as np\n",
    "import matplotlib.pyplot as plt"
   ]
  },
  {
   "cell_type": "code",
   "execution_count": 2,
   "id": "31133943",
   "metadata": {},
   "outputs": [
    {
     "name": "stdout",
     "output_type": "stream",
     "text": [
      "Found 160 images belonging to 2 classes.\n",
      "Found 120 images belonging to 2 classes.\n"
     ]
    }
   ],
   "source": [
    "# 기존 이미지  갯수 늘리기:전처리\n",
    "train_data_gen = ImageDataGenerator(rescale=1./255,            # 정규화\n",
    "                                   horizontal_flip=True,       # 수평 뒤집기\n",
    "                                   width_shift_range=0.1,       # 수평 이동\n",
    "                                   height_shift_range=0.1,      # 수직이동\n",
    "                                   fill_mode='nearest')\n",
    "train_generator = train_data_gen.flow_from_directory('./data/train', target_size=(150, 150), batch_size=5, class_mode='binary')\n",
    "\n",
    "test_data_gen = ImageDataGenerator(rescale=1./255)  # 테스트 데이터는 정규화만\n",
    "test_generator = test_data_gen.flow_from_directory('./data/test', target_size=(150, 150), batch_size=5, class_mode='binary')"
   ]
  },
  {
   "cell_type": "code",
   "execution_count": 3,
   "id": "d4a3c10e",
   "metadata": {},
   "outputs": [
    {
     "name": "stdout",
     "output_type": "stream",
     "text": [
      "Model: \"sequential\"\n",
      "_________________________________________________________________\n",
      " Layer (type)                Output Shape              Param #   \n",
      "=================================================================\n",
      " conv2d (Conv2D)             (None, 148, 148, 32)      896       \n",
      "                                                                 \n",
      " max_pooling2d (MaxPooling2D  (None, 74, 74, 32)       0         \n",
      " )                                                               \n",
      "                                                                 \n",
      " conv2d_1 (Conv2D)           (None, 72, 72, 32)        9248      \n",
      "                                                                 \n",
      " max_pooling2d_1 (MaxPooling  (None, 36, 36, 32)       0         \n",
      " 2D)                                                             \n",
      "                                                                 \n",
      " activation (Activation)     (None, 36, 36, 32)        0         \n",
      "                                                                 \n",
      " conv2d_2 (Conv2D)           (None, 34, 34, 64)        18496     \n",
      "                                                                 \n",
      " max_pooling2d_2 (MaxPooling  (None, 17, 17, 64)       0         \n",
      " 2D)                                                             \n",
      "                                                                 \n",
      " flatten (Flatten)           (None, 18496)             0         \n",
      "                                                                 \n",
      " dense (Dense)               (None, 64)                1183808   \n",
      "                                                                 \n",
      " dropout (Dropout)           (None, 64)                0         \n",
      "                                                                 \n",
      " dense_1 (Dense)             (None, 1)                 65        \n",
      "                                                                 \n",
      "=================================================================\n",
      "Total params: 1,212,513\n",
      "Trainable params: 1,212,513\n",
      "Non-trainable params: 0\n",
      "_________________________________________________________________\n"
     ]
    }
   ],
   "source": [
    "model = Sequential()\n",
    "model.add(Conv2D(32, kernel_size=3, input_shape=(150, 150, 3), activation='relu'))\n",
    "model.add(MaxPooling2D(pool_size=(2,2)))\n",
    "\n",
    "model.add(Conv2D(32, (3, 3)))\n",
    "model.add(MaxPooling2D(pool_size=(2,2)))\n",
    "model.add(Activation('relu'))\n",
    "\n",
    "model.add(Conv2D(64, (3, 3), activation='relu'))\n",
    "model.add(MaxPooling2D(pool_size=(2,2)))\n",
    "model.add(Flatten())\n",
    "\n",
    "model.add(Dense(64, activation='relu'))\n",
    "model.add(Dropout(0.5))\n",
    "model.add(Dense(1, activation='sigmoid'))\n",
    "model.summary()\n"
   ]
  },
  {
   "cell_type": "code",
   "execution_count": 4,
   "id": "76754697",
   "metadata": {},
   "outputs": [
    {
     "name": "stdout",
     "output_type": "stream",
     "text": [
      "Epoch 1/200\n",
      "32/32 [==============================] - 6s 132ms/step - loss: 0.6987 - accuracy: 0.4750 - val_loss: 0.6865 - val_accuracy: 0.5400\n",
      "Epoch 2/200\n",
      "32/32 [==============================] - 4s 123ms/step - loss: 0.6851 - accuracy: 0.5625 - val_loss: 0.6782 - val_accuracy: 0.6200\n",
      "Epoch 3/200\n",
      "32/32 [==============================] - 4s 122ms/step - loss: 0.6830 - accuracy: 0.5375 - val_loss: 0.6641 - val_accuracy: 0.5800\n",
      "Epoch 4/200\n",
      "32/32 [==============================] - 4s 122ms/step - loss: 0.6793 - accuracy: 0.6062 - val_loss: 0.6437 - val_accuracy: 0.7200\n",
      "Epoch 5/200\n",
      "32/32 [==============================] - 4s 122ms/step - loss: 0.6418 - accuracy: 0.7063 - val_loss: 0.5687 - val_accuracy: 0.8400\n",
      "Epoch 6/200\n",
      "32/32 [==============================] - 4s 123ms/step - loss: 0.6091 - accuracy: 0.6875 - val_loss: 0.5505 - val_accuracy: 0.7000\n",
      "Epoch 7/200\n",
      "32/32 [==============================] - 4s 119ms/step - loss: 0.6063 - accuracy: 0.7375 - val_loss: 0.4762 - val_accuracy: 0.8600\n",
      "Epoch 8/200\n",
      "32/32 [==============================] - 4s 123ms/step - loss: 0.5707 - accuracy: 0.7188 - val_loss: 0.3994 - val_accuracy: 0.9600\n",
      "Epoch 9/200\n",
      "32/32 [==============================] - 4s 121ms/step - loss: 0.5167 - accuracy: 0.7875 - val_loss: 0.3474 - val_accuracy: 0.9800\n",
      "Epoch 10/200\n",
      "32/32 [==============================] - 4s 123ms/step - loss: 0.4218 - accuracy: 0.8500 - val_loss: 0.3222 - val_accuracy: 0.8400\n",
      "Epoch 11/200\n",
      "32/32 [==============================] - 4s 122ms/step - loss: 0.3355 - accuracy: 0.9125 - val_loss: 0.2405 - val_accuracy: 0.9400\n",
      "Epoch 12/200\n",
      "32/32 [==============================] - 4s 120ms/step - loss: 0.3149 - accuracy: 0.8813 - val_loss: 0.2342 - val_accuracy: 0.9400\n",
      "Epoch 13/200\n",
      "32/32 [==============================] - 4s 123ms/step - loss: 0.2752 - accuracy: 0.8875 - val_loss: 0.1514 - val_accuracy: 0.9800\n",
      "Epoch 14/200\n",
      "32/32 [==============================] - 4s 122ms/step - loss: 0.2320 - accuracy: 0.9250 - val_loss: 0.1174 - val_accuracy: 0.9800\n",
      "Epoch 15/200\n",
      "32/32 [==============================] - 4s 118ms/step - loss: 0.2706 - accuracy: 0.9312 - val_loss: 0.1959 - val_accuracy: 0.9600\n",
      "Epoch 16/200\n",
      "32/32 [==============================] - 4s 120ms/step - loss: 0.1706 - accuracy: 0.9375 - val_loss: 0.1335 - val_accuracy: 0.9400\n",
      "Epoch 17/200\n",
      "32/32 [==============================] - 4s 121ms/step - loss: 0.1615 - accuracy: 0.9375 - val_loss: 0.1229 - val_accuracy: 0.9600\n",
      "Epoch 18/200\n",
      "32/32 [==============================] - 4s 124ms/step - loss: 0.1655 - accuracy: 0.9438 - val_loss: 0.0763 - val_accuracy: 0.9600\n",
      "Epoch 19/200\n",
      "32/32 [==============================] - 4s 120ms/step - loss: 0.2142 - accuracy: 0.9125 - val_loss: 0.0733 - val_accuracy: 1.0000\n",
      "Epoch 20/200\n",
      "32/32 [==============================] - 4s 125ms/step - loss: 0.1910 - accuracy: 0.9375 - val_loss: 0.1201 - val_accuracy: 0.9600\n",
      "Epoch 21/200\n",
      "32/32 [==============================] - 4s 123ms/step - loss: 0.2420 - accuracy: 0.9187 - val_loss: 0.1609 - val_accuracy: 0.9200\n",
      "Epoch 22/200\n",
      "32/32 [==============================] - 4s 124ms/step - loss: 0.1474 - accuracy: 0.9500 - val_loss: 0.1110 - val_accuracy: 0.9400\n",
      "Epoch 23/200\n",
      "32/32 [==============================] - 4s 121ms/step - loss: 0.1446 - accuracy: 0.9625 - val_loss: 0.0908 - val_accuracy: 0.9600\n",
      "Epoch 24/200\n",
      "32/32 [==============================] - 4s 123ms/step - loss: 0.1354 - accuracy: 0.9625 - val_loss: 0.0937 - val_accuracy: 0.9800\n"
     ]
    }
   ],
   "source": [
    "model.compile(loss='binary_crossentropy', optimizer=optimizers.Adam(learning_rate=0.0002), metrics=['accuracy'])\n",
    "\n",
    "erary_stop = EarlyStopping(patience=5)\n",
    "\n",
    "history = model.fit(train_generator, epochs=200, validation_data=test_generator, validation_steps=10, callbacks=[erary_stop])"
   ]
  },
  {
   "cell_type": "code",
   "execution_count": 5,
   "id": "efcec2e4",
   "metadata": {},
   "outputs": [
    {
     "data": {
      "image/png": "[encoded data removed]",
      "text/plain": [
       "<Figure size 640x480 with 1 Axes>"
      ]
     },
     "metadata": {},
     "output_type": "display_data"
    }
   ],
   "source": [
    "y_vloss = history.history['val_loss']\n",
    "y_loss = history.history['loss']\n",
    "x_num = np.arange(len(y_vloss))\n",
    "\n",
    "plt.plot(x_num, y_vloss, marker='.', c='red', label='val_loss')\n",
    "plt.plot(x_num, y_loss, marker='.', c='blue', label='loss')\n",
    "plt.xlabel('Epoch')\n",
    "plt.ylabel('loss')\n",
    "plt.legend(loc='best')\n",
    "plt.show()"
   ]
  },
  {
   "cell_type": "markdown",
   "id": "4afc2031",
   "metadata": {},
   "source": [
    "## 2. 전이학습으로 모델 성능 극대화하기"
   ]
  },
  {
   "cell_type": "code",
   "execution_count": 7,
   "id": "6352b73d",
   "metadata": {},
   "outputs": [],
   "source": [
    "from tensorflow.keras import optimizers\n",
    "from tensorflow.keras.applications import VGG16\n",
    "from tensorflow.keras import optimizers, Input, models, metrics"
   ]
  },
  {
   "cell_type": "code",
   "execution_count": 9,
   "id": "18cd82bf",
   "metadata": {},
   "outputs": [
    {
     "name": "stdout",
     "output_type": "stream",
     "text": [
      "Downloading data from https://storage.googleapis.com/tensorflow/keras-applications/vgg16/vgg16_weights_tf_dim_ordering_tf_kernels_notop.h5\n",
      "58889256/58889256 [==============================] - 35s 1us/step\n",
      "Model: \"vgg16\"\n",
      "_________________________________________________________________\n",
      " Layer (type)                Output Shape              Param #   \n",
      "=================================================================\n",
      " input_1 (InputLayer)        [(None, 150, 150, 3)]     0         \n",
      "                                                                 \n",
      " block1_conv1 (Conv2D)       (None, 150, 150, 64)      1792      \n",
      "                                                                 \n",
      " block1_conv2 (Conv2D)       (None, 150, 150, 64)      36928     \n",
      "                                                                 \n",
      " block1_pool (MaxPooling2D)  (None, 75, 75, 64)        0         \n",
      "                                                                 \n",
      " block2_conv1 (Conv2D)       (None, 75, 75, 128)       73856     \n",
      "                                                                 \n",
      " block2_conv2 (Conv2D)       (None, 75, 75, 128)       147584    \n",
      "                                                                 \n",
      " block2_pool (MaxPooling2D)  (None, 37, 37, 128)       0         \n",
      "                                                                 \n",
      " block3_conv1 (Conv2D)       (None, 37, 37, 256)       295168    \n",
      "                                                                 \n",
      " block3_conv2 (Conv2D)       (None, 37, 37, 256)       590080    \n",
      "                                                                 \n",
      " block3_conv3 (Conv2D)       (None, 37, 37, 256)       590080    \n",
      "                                                                 \n",
      " block3_pool (MaxPooling2D)  (None, 18, 18, 256)       0         \n",
      "                                                                 \n",
      " block4_conv1 (Conv2D)       (None, 18, 18, 512)       1180160   \n",
      "                                                                 \n",
      " block4_conv2 (Conv2D)       (None, 18, 18, 512)       2359808   \n",
      "                                                                 \n",
      " block4_conv3 (Conv2D)       (None, 18, 18, 512)       2359808   \n",
      "                                                                 \n",
      " block4_pool (MaxPooling2D)  (None, 9, 9, 512)         0         \n",
      "                                                                 \n",
      " block5_conv1 (Conv2D)       (None, 9, 9, 512)         2359808   \n",
      "                                                                 \n",
      " block5_conv2 (Conv2D)       (None, 9, 9, 512)         2359808   \n",
      "                                                                 \n",
      " block5_conv3 (Conv2D)       (None, 9, 9, 512)         2359808   \n",
      "                                                                 \n",
      " block5_pool (MaxPooling2D)  (None, 4, 4, 512)         0         \n",
      "                                                                 \n",
      "=================================================================\n",
      "Total params: 14,714,688\n",
      "Trainable params: 0\n",
      "Non-trainable params: 14,714,688\n",
      "_________________________________________________________________\n"
     ]
    }
   ],
   "source": [
    "transfer_model = VGG16(input_shape=(150, 150, 3), include_top=False)\n",
    "transfer_model.trainable = False\n",
    "transfer_model.summary()"
   ]
  },
  {
   "cell_type": "code",
   "execution_count": 10,
   "id": "024e2ddc",
   "metadata": {},
   "outputs": [
    {
     "name": "stdout",
     "output_type": "stream",
     "text": [
      "Model: \"sequential_1\"\n",
      "_________________________________________________________________\n",
      " Layer (type)                Output Shape              Param #   \n",
      "=================================================================\n",
      " vgg16 (Functional)          (None, 4, 4, 512)         14714688  \n",
      "                                                                 \n",
      " flatten_1 (Flatten)         (None, 8192)              0         \n",
      "                                                                 \n",
      " dense_2 (Dense)             (None, 64)                524352    \n",
      "                                                                 \n",
      " dropout_1 (Dropout)         (None, 64)                0         \n",
      "                                                                 \n",
      " dense_3 (Dense)             (None, 1)                 65        \n",
      "                                                                 \n",
      "=================================================================\n",
      "Total params: 15,239,105\n",
      "Trainable params: 524,417\n",
      "Non-trainable params: 14,714,688\n",
      "_________________________________________________________________\n"
     ]
    }
   ],
   "source": [
    "model = Sequential()\n",
    "model.add(transfer_model)\n",
    "model.add(Flatten())\n",
    "model.add(Dense(64, activation='relu'))\n",
    "model.add(Dropout(0.5))\n",
    "model.add(Dense(1, activation='sigmoid'))\n",
    "model.summary()"
   ]
  },
  {
   "cell_type": "code",
   "execution_count": 11,
   "id": "b5e14a22",
   "metadata": {},
   "outputs": [
    {
     "name": "stdout",
     "output_type": "stream",
     "text": [
      "Epoch 1/200\n",
      "32/32 [==============================] - 16s 481ms/step - loss: 0.6639 - accuracy: 0.6187 - val_loss: 0.5279 - val_accuracy: 0.7400\n",
      "Epoch 2/200\n",
      "32/32 [==============================] - 15s 471ms/step - loss: 0.6179 - accuracy: 0.6250 - val_loss: 0.4633 - val_accuracy: 0.9200\n",
      "Epoch 3/200\n",
      "32/32 [==============================] - 18s 567ms/step - loss: 0.4416 - accuracy: 0.8250 - val_loss: 0.3888 - val_accuracy: 0.9000\n",
      "Epoch 4/200\n",
      "32/32 [==============================] - 18s 554ms/step - loss: 0.3772 - accuracy: 0.9000 - val_loss: 0.3364 - val_accuracy: 0.9000\n",
      "Epoch 5/200\n",
      "32/32 [==============================] - 17s 531ms/step - loss: 0.3158 - accuracy: 0.8875 - val_loss: 0.3832 - val_accuracy: 0.8200\n",
      "Epoch 6/200\n",
      "32/32 [==============================] - 17s 530ms/step - loss: 0.3158 - accuracy: 0.8813 - val_loss: 0.2969 - val_accuracy: 0.9000\n",
      "Epoch 7/200\n",
      "32/32 [==============================] - 17s 541ms/step - loss: 0.2786 - accuracy: 0.9062 - val_loss: 0.2031 - val_accuracy: 0.9200\n",
      "Epoch 8/200\n",
      "32/32 [==============================] - 17s 539ms/step - loss: 0.2778 - accuracy: 0.9062 - val_loss: 0.2135 - val_accuracy: 0.9000\n",
      "Epoch 9/200\n",
      "32/32 [==============================] - 18s 553ms/step - loss: 0.2980 - accuracy: 0.8813 - val_loss: 0.2456 - val_accuracy: 0.9200\n",
      "Epoch 10/200\n",
      "32/32 [==============================] - 17s 545ms/step - loss: 0.2304 - accuracy: 0.9187 - val_loss: 0.2217 - val_accuracy: 0.9400\n",
      "Epoch 11/200\n",
      "32/32 [==============================] - 17s 549ms/step - loss: 0.2207 - accuracy: 0.9312 - val_loss: 0.2524 - val_accuracy: 0.9200\n",
      "Epoch 12/200\n",
      "32/32 [==============================] - 18s 550ms/step - loss: 0.1758 - accuracy: 0.9500 - val_loss: 0.2376 - val_accuracy: 0.9000\n"
     ]
    }
   ],
   "source": [
    "model.compile(loss='binary_crossentropy', optimizer=optimizers.Adam(learning_rate=0.0002), metrics=['accuracy'])\n",
    "earl_stop = EarlyStopping(patience=5)\n",
    "history = model.fit(train_generator, epochs=200, validation_data=test_generator, validation_steps=10, callbacks=[earl_stop])"
   ]
  },
  {
   "cell_type": "code",
   "execution_count": 12,
   "id": "04ad3360",
   "metadata": {},
   "outputs": [
    {
     "data": {
      "image/png": "[encoded data removed]",
      "text/plain": [
       "<Figure size 640x480 with 1 Axes>"
      ]
     },
     "metadata": {},
     "output_type": "display_data"
    }
   ],
   "source": [
    "y_vloss = history.history['val_loss']\n",
    "y_loss = history.history['loss']\n",
    "x_num = np.arange(len(y_vloss))\n",
    "\n",
    "plt.plot(x_num, y_vloss, marker='.', c='red', label='val_loss')\n",
    "plt.plot(x_num, y_loss, marker='.', c='blue', label='loss')\n",
    "plt.xlabel('Epoch')\n",
    "plt.ylabel('loss')\n",
    "plt.legend(loc='best')\n",
    "plt.show()"
   ]
  },
  {
   "cell_type": "code",
   "execution_count": null,
   "id": "cfe13904",
   "metadata": {},
   "outputs": [],
   "source": []
  }
 ],
 "metadata": {
  "kernelspec": {
   "display_name": "py3.8",
   "language": "python",
   "name": "py3.8"
  },
  "language_info": {
   "codemirror_mode": {
    "name": "ipython",
    "version": 3
   },
   "file_extension": ".py",
   "mimetype": "text/x-python",
   "name": "python",
   "nbconvert_exporter": "python",
   "pygments_lexer": "ipython3",
   "version": "3.8.16"
  }
 },
 "nbformat": 4,
 "nbformat_minor": 5
}
