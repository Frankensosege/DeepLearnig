{
 "cells": [
  {
   "cell_type": "markdown",
   "id": "875e380a",
   "metadata": {},
   "source": [
    "# 세상에 없는 얼굴 GAN, 오토인코더"
   ]
  },
  {
   "cell_type": "code",
   "execution_count": 8,
   "id": "f131f47b",
   "metadata": {},
   "outputs": [],
   "source": [
    "# 배치 정규화, 이미지 확대, DCGAN\n",
    "from tensorflow.keras.models import Sequential\n",
    "from tensorflow.keras.layers import BatchNormalization, Dense, Reshape, Input, Flatten, Dropout\n",
    "from tensorflow.keras.layers import Activation, LeakyReLU, UpSampling2D, Conv2D\n",
    "import numpy as np\n",
    "import matplotlib.pyplot as plt"
   ]
  },
  {
   "cell_type": "code",
   "execution_count": 9,
   "id": "3f66a71f",
   "metadata": {},
   "outputs": [],
   "source": [
    "from tensorflow.keras.datasets import mnist"
   ]
  },
  {
   "cell_type": "code",
   "execution_count": 12,
   "id": "8a548632",
   "metadata": {},
   "outputs": [],
   "source": [
    "# 생성자 모델생성\n",
    "generator = Sequential()\n",
    "generator.add(Dense(128*7*7, input_dim=100, activation=LeakyReLU(0.2)))  # 입력층 -> layer 1\n",
    "generator.add(BatchNormalization())         # 배치정규화 : 평균 0, 분산이 1인 데이터로 재배치\n",
    "generator.add(Reshape((7, 7, 128)))         # 3차원으로 데이터 타입 변경\n",
    "generator.add(UpSampling2D())               # 이미지를 2배로 확장 시킴\n",
    "generator.add(Conv2D(64, kernel_size=5, padding='same'))   # padding='same', 이미지 사이즈 줄지 않음\n",
    "generator.add(BatchNormalization())         # 배치정규화 : 평균 0, 분산이 1인 데이터로 재배치\n",
    "generator.add(Activation(LeakyReLU(0.2)))   # 활성화 함수 추가\n",
    "generator.add(UpSampling2D())               # 이미지를 2배로 확장 시킴\n",
    "generator.add(Conv2D(1, kernel_size=5, padding='same', activation='tanh'))"
   ]
  },
  {
   "cell_type": "code",
   "execution_count": null,
   "id": "fd10cc54",
   "metadata": {},
   "outputs": [],
   "source": [
    "# 판별자 모델생성\n",
    "discriminator = Sequential()\n",
    "discriminator.add(Conv2D(64, kernel_size=5, strides=2, input_shape=(28, 28, 1), padding='same'))\n",
    "discriminator.add(Activation(LeakyReLU(0.2)))\n",
    "discriminator.add(Dropout(0.3))\n",
    "discriminator.add(Conv2D(128, kernel_size=5, strides=2, padding='same'))\n",
    "discriminator.add(Activation(LeakyReLU(0.2)))\n",
    "discriminator.add(Dropout(0.3))\n",
    "discriminator.add(Flatten())\n",
    "discriminator.add(Dense(1, activation='sigmoid'))\n",
    "discriminator.compile(loss='binary_crossentropy', optimizer='adam')\n",
    "discriminator.trainable = False"
   ]
  }
 ],
 "metadata": {
  "kernelspec": {
   "display_name": "py3.8",
   "language": "python",
   "name": "py3.8"
  },
  "language_info": {
   "codemirror_mode": {
    "name": "ipython",
    "version": 3
   },
   "file_extension": ".py",
   "mimetype": "text/x-python",
   "name": "python",
   "nbconvert_exporter": "python",
   "pygments_lexer": "ipython3",
   "version": "3.8.16"
  }
 },
 "nbformat": 4,
 "nbformat_minor": 5
}
