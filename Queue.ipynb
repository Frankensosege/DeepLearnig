{
 "cells": [
  {
   "cell_type": "code",
   "execution_count": 2,
   "id": "fcc2f24a",
   "metadata": {},
   "outputs": [],
   "source": [
    "## Queue : 출구와 입구가 다른 자료구조\n",
    "queue = [ None for _ in range(5) ]\n",
    "front = rear = -1  #  출구(front),  입구(rear) 를 초기화\n",
    "\n",
    "# 데이터를 큐에 입력  -> enQueue\n",
    "rear += 1\n",
    "queue[rear] = '화사'\n",
    "\n",
    "rear += 1\n",
    "queue[rear] = '솔라'\n",
    "\n",
    "rear += 1\n",
    "queue[rear] = '문별'"
   ]
  },
  {
   "cell_type": "code",
   "execution_count": 5,
   "id": "29ee7a1b",
   "metadata": {},
   "outputs": [
    {
     "name": "stdout",
     "output_type": "stream",
     "text": [
      " ---  큐의 상태 ----\n",
      " 출구 <--  화사 솔라 문별 None None  --> 입구 \n",
      "deQueue ->  화사\n"
     ]
    }
   ],
   "source": [
    "print(\" ---  큐의 상태 ----\")\n",
    "print(\" 출구 <-- \", end=' ')\n",
    "for i in range(len(queue)):\n",
    "    print(queue[i], end=' ')\n",
    "print(\" --> 입구 \")\n",
    "\n",
    "# deQueue : queue에서 자료를 추출\n",
    "front += 1  \n",
    "data = queue[front]\n",
    "queue[front] = None\n",
    "print('deQueue -> ', data)"
   ]
  },
  {
   "cell_type": "code",
   "execution_count": null,
   "id": "f1ddef92",
   "metadata": {},
   "outputs": [],
   "source": [
    "print(\" ---  큐의 상태 ----\")\n",
    "print(\" 출구 <-- \", end=' ')\n",
    "for i in range(len(queue)):\n",
    "    print(queue[i], end=' ')\n",
    "print(\" --> 입구 \")"
   ]
  },
  {
   "cell_type": "code",
   "execution_count": 13,
   "id": "71a813e4",
   "metadata": {},
   "outputs": [],
   "source": [
    "## Queue : 출구와 입구가 다른 자료구조\n",
    "def isQueuefull():\n",
    "    global size, queue, front, rear\n",
    "    if rear == size-1:\n",
    "        return True\n",
    "    else:\n",
    "        return False\n",
    "    \n",
    "def isQueueempty():\n",
    "    global size, queue, front, rear\n",
    "    if front == rear:\n",
    "        return True\n",
    "    else:\n",
    "        return False    \n",
    "        \n",
    "def enQueue(data):\n",
    "    global size, queue, front, rear\n",
    "    if isQueuefull():\n",
    "        print(\" 큐가 다 찼음\")\n",
    "        return\n",
    "    rear += 1\n",
    "    queue[rear] = data\n",
    "\n",
    "def deQueue():\n",
    "    global size, queue, front, rear\n",
    "    if isQueueempty():\n",
    "        print(\" 큐가 비었음\")\n",
    "        return\n",
    "    front += 1  \n",
    "    data = queue[front]\n",
    "    queue[front] = None\n",
    "    \n",
    "    #  뒤에서 앞으로 데이터 이동\n",
    "    for i in range(front+1, rear + 1):\n",
    "        queue[i - 1] = queue[i]\n",
    "        queue[i] = None\n",
    "    front = -1   # 출구의 위치를 초기값으로 지정\n",
    "    rear -= 1    # 입구의 위치 1칸 앞으로 이동\n",
    "    return data\n",
    "\n",
    "def peekQueue():  # 추출될 데이터 확인\n",
    "    global size, queue, front, rear\n",
    "    if isQueueempty():\n",
    "        print(\" 큐가 비었음\")\n",
    "        return\n",
    "    return queue[front + 1]\n",
    "\n",
    "def printQueue():\n",
    "    global size, queue, front, rear    \n",
    "    print(\" ---  큐의 상태 ----\")\n",
    "    print(\" 출구 <-- \", end=' ')\n",
    "    for i in range(len(queue)):\n",
    "        print(queue[i], end=' ')\n",
    "    print(\" --> 입구 \")\n"
   ]
  },
  {
   "cell_type": "code",
   "execution_count": 14,
   "id": "649e3a37",
   "metadata": {},
   "outputs": [
    {
     "name": "stdout",
     "output_type": "stream",
     "text": [
      "큐 사이즈 입력 : 1\n",
      "메뉴입력 (1 : 삽입, 2: 추출, 3:추출할 자료 확인 4: 리스트 5: 종료) -> aa\n",
      "메뉴입력 (1 : 삽입, 2: 추출, 3:추출할 자료 확인 4: 리스트 5: 종료) -> 1\n",
      " 삽입할 자료 입력 : bb\n",
      "메뉴입력 (1 : 삽입, 2: 추출, 3:추출할 자료 확인 4: 리스트 5: 종료) -> 1\n",
      " 삽입할 자료 입력 : vv\n",
      " 큐가 다 찼음\n",
      "메뉴입력 (1 : 삽입, 2: 추출, 3:추출할 자료 확인 4: 리스트 5: 종료) -> 4\n",
      " ---  큐의 상태 ----\n",
      " 출구 <--  bb  --> 입구 \n",
      "메뉴입력 (1 : 삽입, 2: 추출, 3:추출할 자료 확인 4: 리스트 5: 종료) -> 3\n",
      "추출할 자료는 :  bb\n",
      "메뉴입력 (1 : 삽입, 2: 추출, 3:추출할 자료 확인 4: 리스트 5: 종료) -> 2\n",
      "추출한 자료는 :  bb\n",
      "메뉴입력 (1 : 삽입, 2: 추출, 3:추출할 자료 확인 4: 리스트 5: 종료) -> 4\n",
      " ---  큐의 상태 ----\n",
      " 출구 <--  None  --> 입구 \n",
      "메뉴입력 (1 : 삽입, 2: 추출, 3:추출할 자료 확인 4: 리스트 5: 종료) -> 5\n"
     ]
    }
   ],
   "source": [
    "size = int(input(\"큐 사이즈 입력 : \"))\n",
    "queue = [ None for _ in range(size)]\n",
    "front = rear = -1  #  출구(front),  입구(rear) 를 초기화\n",
    "# 2. \n",
    "while True:\n",
    "    menu = input(\"메뉴입력 (1 : 삽입, 2: 추출, 3:추출할 자료 확인 4: 리스트 5: 종료) -> \")\n",
    "    if menu == '1':\n",
    "        data = input(' 삽입할 자료 입력 : ')\n",
    "        enQueue(data)\n",
    "    elif menu == '2':\n",
    "        data = deQueue()\n",
    "        if data:\n",
    "            print(\"추출한 자료는 : \", data)      \n",
    "    elif menu == '3':\n",
    "        data = peekQueue()     \n",
    "        if data:\n",
    "            print(\"추출할 자료는 : \", data)         \n",
    "    elif menu == '4':\n",
    "        printQueue()\n",
    "    elif menu == '5':\n",
    "        break"
   ]
  }
 ],
 "metadata": {
  "kernelspec": {
   "display_name": "Python 3 (ipykernel)",
   "language": "python",
   "name": "python3"
  },
  "language_info": {
   "codemirror_mode": {
    "name": "ipython",
    "version": 3
   },
   "file_extension": ".py",
   "mimetype": "text/x-python",
   "name": "python",
   "nbconvert_exporter": "python",
   "pygments_lexer": "ipython3",
   "version": "3.9.13"
  }
 },
 "nbformat": 4,
 "nbformat_minor": 5
}
