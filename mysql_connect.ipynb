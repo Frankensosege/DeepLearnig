{
 "cells": [
  {
   "cell_type": "code",
   "execution_count": 20,
   "id": "c744ff72",
   "metadata": {},
   "outputs": [],
   "source": [
    "import mysql.connector\n",
    "\n",
    "# create connection\n",
    "mydb = mysql.connector.connect(\n",
    "  host=\"localhost\",\n",
    "  user=\"root\",\n",
    "  password=\"passwd\",\n",
    "  database=\"shopdb\"\n",
    ")\n",
    "\n",
    "# create cursor\n",
    "mycursor = mydb.cursor()"
   ]
  },
  {
   "cell_type": "code",
   "execution_count": null,
   "id": "7fca5d48",
   "metadata": {},
   "outputs": [],
   "source": [
    "# execute SELECT query\n",
    "mycursor.execute(\"SELECT * FROM membertb\")\n",
    "\n",
    "# fetch all rows\n",
    "rows = mycursor.fetchall()\n",
    "\n",
    "# print rows\n",
    "for row in rows:\n",
    "  print(row)\n",
    "# mydb.close()  # db 연결 끊음 "
   ]
  },
  {
   "cell_type": "code",
   "execution_count": 6,
   "id": "023543c6",
   "metadata": {},
   "outputs": [],
   "source": [
    "sql = \"\"\"CREATE TABLE `membertbl` (\n",
    "  `memberID` char(8) NOT NULL,\n",
    "  `memberName` char(5) NOT NULL,\n",
    "  `memberAddress` char(20) DEFAULT NULL,\n",
    "  PRIMARY KEY (`memberID`)\n",
    ") \"\"\"\n",
    "\n",
    "mycursor.execute(sql)  #  membertbl  생성"
   ]
  },
  {
   "cell_type": "code",
   "execution_count": 9,
   "id": "44a217b6",
   "metadata": {},
   "outputs": [],
   "source": [
    "sql = \"\"\"INSERT INTO `membertbl` VALUES\n",
    "('Han','한주연','인천 남구 주안동'),\n",
    "('Jee','지운이','서울 은평구 증산동'),\n",
    "('Sang','상길이','경기 성남시 분당구');\"\"\"\n",
    "\n",
    "mycursor.execute(sql)"
   ]
  },
  {
   "cell_type": "code",
   "execution_count": null,
   "id": "34b3fd7e",
   "metadata": {},
   "outputs": [],
   "source": [
    "sql = \"select * from membertbl\"\n",
    "mycursor.execute(sql)\n",
    "# fetch all rows\n",
    "rows = mycursor.fetchall()\n",
    "\n",
    "# print rows\n",
    "for row in rows:\n",
    "  print(row)"
   ]
  },
  {
   "cell_type": "code",
   "execution_count": 11,
   "id": "39a9bce2",
   "metadata": {},
   "outputs": [],
   "source": [
    "mycursor.execute('commit')"
   ]
  },
  {
   "cell_type": "code",
   "execution_count": 13,
   "id": "41a8d743",
   "metadata": {},
   "outputs": [],
   "source": [
    "import pandas as pd"
   ]
  },
  {
   "cell_type": "code",
   "execution_count": 41,
   "id": "7ca91c72",
   "metadata": {},
   "outputs": [],
   "source": [
    "df = pd.DataFrame(rows, columns=cols)"
   ]
  },
  {
   "cell_type": "code",
   "execution_count": 42,
   "id": "676b1c12",
   "metadata": {},
   "outputs": [
    {
     "data": {
      "text/html": [
       "<div>\n",
       "<style scoped>\n",
       "    .dataframe tbody tr th:only-of-type {\n",
       "        vertical-align: middle;\n",
       "    }\n",
       "\n",
       "    .dataframe tbody tr th {\n",
       "        vertical-align: top;\n",
       "    }\n",
       "\n",
       "    .dataframe thead th {\n",
       "        text-align: right;\n",
       "    }\n",
       "</style>\n",
       "<table border=\"1\" class=\"dataframe\">\n",
       "  <thead>\n",
       "    <tr style=\"text-align: right;\">\n",
       "      <th></th>\n",
       "      <th>memberID</th>\n",
       "      <th>memberName</th>\n",
       "      <th>memberAddress</th>\n",
       "    </tr>\n",
       "  </thead>\n",
       "  <tbody>\n",
       "    <tr>\n",
       "      <th>0</th>\n",
       "      <td>Han</td>\n",
       "      <td>한주연</td>\n",
       "      <td>인천 남구 주안동</td>\n",
       "    </tr>\n",
       "    <tr>\n",
       "      <th>1</th>\n",
       "      <td>Jee</td>\n",
       "      <td>지운이</td>\n",
       "      <td>서울 은평구 증산동</td>\n",
       "    </tr>\n",
       "    <tr>\n",
       "      <th>2</th>\n",
       "      <td>Sang</td>\n",
       "      <td>상길이</td>\n",
       "      <td>경기 성남시 분당구</td>\n",
       "    </tr>\n",
       "  </tbody>\n",
       "</table>\n",
       "</div>"
      ],
      "text/plain": [
       "  memberID memberName memberAddress\n",
       "0      Han        한주연     인천 남구 주안동\n",
       "1      Jee        지운이    서울 은평구 증산동\n",
       "2     Sang        상길이    경기 성남시 분당구"
      ]
     },
     "execution_count": 42,
     "metadata": {},
     "output_type": "execute_result"
    }
   ],
   "source": [
    "df"
   ]
  },
  {
   "cell_type": "code",
   "execution_count": 19,
   "id": "bc1b2b03",
   "metadata": {},
   "outputs": [],
   "source": [
    "mydb.close()"
   ]
  },
  {
   "cell_type": "code",
   "execution_count": 37,
   "id": "17f36bc5",
   "metadata": {},
   "outputs": [],
   "source": [
    "sql = \"\"\"SELECT  COLUMN_NAME\n",
    "FROM    INFORMATION_SCHEMA.COLUMNS\n",
    "WHERE   TABLE_NAME = 'membertbl';\"\"\"\n",
    "\n",
    "mycursor.execute(sql)"
   ]
  },
  {
   "cell_type": "code",
   "execution_count": 38,
   "id": "88c328fc",
   "metadata": {},
   "outputs": [],
   "source": [
    "columns = mycursor.fetchall()"
   ]
  },
  {
   "cell_type": "code",
   "execution_count": 39,
   "id": "384b722a",
   "metadata": {},
   "outputs": [
    {
     "name": "stdout",
     "output_type": "stream",
     "text": [
      "('memberID',)\n",
      "('memberName',)\n",
      "('memberAddress',)\n"
     ]
    }
   ],
   "source": [
    "cols = []\n",
    "for col in columns:\n",
    "    print(col)\n",
    "    cols.append(col[0])"
   ]
  },
  {
   "cell_type": "code",
   "execution_count": 40,
   "id": "6b3fd4c0",
   "metadata": {},
   "outputs": [
    {
     "data": {
      "text/plain": [
       "['memberID', 'memberName', 'memberAddress']"
      ]
     },
     "execution_count": 40,
     "metadata": {},
     "output_type": "execute_result"
    }
   ],
   "source": [
    "cols"
   ]
  }
 ],
 "metadata": {
  "kernelspec": {
   "display_name": "py3.8",
   "language": "python",
   "name": "py3.8"
  },
  "language_info": {
   "codemirror_mode": {
    "name": "ipython",
    "version": 3
   },
   "file_extension": ".py",
   "mimetype": "text/x-python",
   "name": "python",
   "nbconvert_exporter": "python",
   "pygments_lexer": "ipython3",
   "version": "3.8.16"
  }
 },
 "nbformat": 4,
 "nbformat_minor": 5
}
